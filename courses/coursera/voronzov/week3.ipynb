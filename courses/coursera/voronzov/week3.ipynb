{
 "cells": [
  {
   "cell_type": "markdown",
   "metadata": {},
   "source": [
    "# Week #3\n",
    "## Метод опорных векторов\n",
    "### Опорные объекты\n",
    "\n",
    "Метод опорных векторов (Support Vector Machine, SVM) — один из видов линейных классификаторов. Функционал, который он оптимизирует, направлен на максимизацию ширины разделяющей полосы между классами. Из теории статистического обучения известно, что эта ширина тесно связана с обобщающей способностью алгоритма, а ее максимизация позволяет бороться с переобучением.\n",
    "\n",
    "Метод опорных векторов имеет еще одну особенность. Если преобразовать его оптимизационную задачу, то окажется, что итоговый классификатор можно представить как взвешенную сумму скалярных произведений данного объекта на объекты обучающей выборки.\n",
    "\n",
    "По сути, алгоритм делает предсказания на основе сходства нового объекта с объектами обучающей выборки. При этом, как правило, далеко не все коэффициенты оказываются ненулевыми. Это означает, что классификация делается на основе сходства лишь с частью обучающих объектов. Такие объекты называются опорными.\n",
    "\n",
    "Метод опорных векторов реализован в классе sklearn.svm.SVC.\n",
    "\n",
    "- Основными параметрами этого класса являются коэффициент С и тип ядра kernel. В данной задаче мы будем использовать линейное ядро — для этого нужно задать значение параметра kernel='linear'\n",
    "- Индексы опорных объектов обученного классификатора хранятся в поле support_"
   ]
  },
  {
   "cell_type": "code",
   "execution_count": 1,
   "metadata": {
    "collapsed": true
   },
   "outputs": [],
   "source": [
    "import pandas as pd\n",
    "import numpy as np\n",
    "from sklearn.svm import SVC"
   ]
  },
  {
   "cell_type": "code",
   "execution_count": 2,
   "metadata": {
    "collapsed": false
   },
   "outputs": [],
   "source": [
    "# Загрузите выборку из файла svm-data.csv. В нем записана двумерная выборка \n",
    "# (целевая переменная указана в первом столбце, признаки — во втором и третьем).\n",
    "data = pd.read_csv('data/svm-data.csv', header=None)\n",
    "X = data.ix[:,1:]\n",
    "y = data.ix[:,0]"
   ]
  },
  {
   "cell_type": "code",
   "execution_count": 3,
   "metadata": {
    "collapsed": true
   },
   "outputs": [],
   "source": [
    "# Обучите классификатор с линейным ядром, параметром C = 100000 и random_state=241. \n",
    "# Такое значение параметра нужно использовать, чтобы убедиться, что SVM работает \n",
    "# с выборкой как с линейно разделимой. При более низких значениях параметра алгоритм \n",
    "# будет настраиваться с учетом слагаемого в функционале, штрафующего за маленькие отступы, \n",
    "# из-за чего результат может не совпасть с решением классической задачи SVM для линейно \n",
    "# разделимой выборки.\n",
    "method = SVC(C=100000, kernel='linear', random_state=241).fit(X, y)"
   ]
  },
  {
   "cell_type": "code",
   "execution_count": 4,
   "metadata": {
    "collapsed": false
   },
   "outputs": [
    {
     "name": "stdout",
     "output_type": "stream",
     "text": [
      "4 5 10\n"
     ]
    }
   ],
   "source": [
    "# Найдите номера объектов, которые являются опорными (нумерация с единицы). \n",
    "# Они будут являться ответом на задание. Обратите внимание, что в качестве ответа \n",
    "# нужно привести номера объектов в возрастающем порядке через запятую или пробел. \n",
    "# Нумерация начинается с 1.\n",
    "print ' '.join(str(x+1) for x in method.support_)"
   ]
  },
  {
   "cell_type": "markdown",
   "metadata": {},
   "source": [
    "### Анализ текстов\n",
    "\n",
    "Метод опорных векторов (Support Vector Machine, SVM) — один из видов линейных классификаторов. Функционал, который он оптимизирует, направлен на максимизацию ширины разделяющей полосы между классами. Из теории статистического обучения известно, что эта ширина тесно связана с обобщающей способностью алгоритма, а ее максимизация позволяет бороться с переобучением.\n",
    "\n",
    "Одна из причин популярности линейных методов заключается в том, что они хорошо работают на разреженных данных. Так называются выборки с большим количеством признаков, где на каждом объекте большинство признаков равны нулю. Разреженные данные возникают, например, при работе с текстами. Дело в том, что текст удобно кодировать с помощью \"мешка слов\" — формируется столько признаков, сколько всего уникальных слов встречается в текстах, и значение каждого признака равно числу вхождений в документ соответствующего слова. Ясно, что общее число различных слов в наборе текстов может достигать десятков тысяч, и при этом лишь небольшая их часть будет встречаться в одном конкретном тексте.\n",
    "\n",
    "Можно кодировать тексты хитрее, и записывать не количество вхождений слова в текст, а TF-IDF. Это показатель, который равен произведению двух чисел: TF (term frequency) и IDF (inverse document frequency). Первая равна отношению числа вхождений слова в документ к общей длине документа. Вторая величина зависит от того, в скольки документах выборки встречается это слово. Чем больше таких документов, тем меньше IDF. Таким образом, TF-IDF будет иметь высокое значение для тех слов, которые много раз встречаются в данном документе, и редко встречаются в остальных.\n",
    "\n",
    "Как мы уже говорили выше, линейные методы часто применяются для решения различных задач анализа текстов. В этом задании мы применим метод опорных векторов для определения того, к какой из тематик относится новость: атеизм или космос.\n",
    "\n",
    "Для начала вам потребуется загрузить данные. В этом задании мы воспользуемся одним из датасетов, доступных в scikit-learn'е — 20 newsgroups. Для этого нужно воспользоваться модулем datasets:\n",
    "\n",
    "from sklearn import datasets\n",
    "\n",
    "newsgroups = datasets.fetch_20newsgroups(subset='all', categories=['alt.atheism', 'sci.space'])\n",
    "\n",
    "После выполнения этого кода массив с текстами будет находиться в поле newsgroups.data, номер класса — в поле newsgroups.target.\n",
    "\n",
    "Одна из сложностей работы с текстовыми данными состоит в том, что для них нужно построить числовое представление. Одним из способов нахождения такого представления является вычисление TF-IDF. В Scikit-Learn это реализовано в классе sklearn.feature_extraction.text.TfidfVectorizer. Преобразование обучающей выборки нужно делать с помощью функции fit_transform, тестовой — с помощью transform.\n",
    "\n",
    "Реализация SVM-классификатора находится в классе sklearn.svm.SVC. Веса каждого признака у обученного классификатора хранятся в поле coef_. Чтобы понять, какому слову соответствует i-й признак, можно воспользоваться методом get_feature_names() у TfidfVectorizer:\n",
    "\n",
    "feature_mapping = vectorizer.get_feature_names()\n",
    "\n",
    "print feature_mapping[i]\n",
    "\n",
    "Подбор параметров удобно делать с помощью класса sklearn.grid_search.GridSearchCV (При использовании библиотеки scikit-learn версии 18.0.1 sklearn.model_selection.GridSearchCV). Пример использования:\n",
    "\n",
    "grid = {'C': np.power(10.0, np.arange(-5, 6))}\n",
    "\n",
    "cv = KFold(y.size, n_folds=5, shuffle=True, random_state=241)\n",
    "\n",
    "clf = svm.SVC(kernel='linear', random_state=241)\n",
    "\n",
    "gs = GridSearchCV(clf, grid, scoring='accuracy', cv=cv)\n",
    "\n",
    "gs.fit(X, y)\n",
    "\n",
    "При использовании библиотеки scikit-learn версии 18.0.1 и выше KFold задаётся немного по-другому:\n",
    "\n",
    "cv = KFold(n_splits=5, shuffle=True, random_state=241)\n",
    "\n",
    "Первым аргументом в GridSearchCV передается классификатор, для которого будут подбираться значения параметров, вторым — словарь (dict), задающий сетку параметров для перебора. После того, как перебор окончен, можно проанализировать значения качества для всех значений параметров и выбрать наилучший вариант:\n",
    "\n",
    "for a in gs.grid_scores_:\n",
    "    #a.mean_validation_score — оценка качества по кросс-валидации\n",
    "    #a.parameters — значения параметров"
   ]
  },
  {
   "cell_type": "code",
   "execution_count": 5,
   "metadata": {
    "collapsed": false
   },
   "outputs": [],
   "source": [
    "from sklearn import datasets\n",
    "from sklearn.feature_extraction.text import TfidfVectorizer\n",
    "from sklearn.model_selection import KFold\n",
    "from sklearn.model_selection import cross_val_score\n",
    "from sklearn.model_selection import GridSearchCV"
   ]
  },
  {
   "cell_type": "code",
   "execution_count": 6,
   "metadata": {
    "collapsed": false
   },
   "outputs": [],
   "source": [
    "# Загрузите объекты из новостного датасета 20 newsgroups, относящиеся к категориям \n",
    "# \"космос\" и \"атеизм\" (инструкция приведена выше). Обратите внимание, что загрузка данных \n",
    "# может занять несколько минут\n",
    "data = datasets.fetch_20newsgroups(subset='all', categories=['alt.atheism', 'sci.space'])"
   ]
  },
  {
   "cell_type": "code",
   "execution_count": 7,
   "metadata": {
    "collapsed": false
   },
   "outputs": [
    {
     "name": "stdout",
     "output_type": "stream",
     "text": [
      "Words: 28382\n",
      "[u'do', u'do1', u'doable', u'dobbs', u'dobyns', u'doc', u'dock', u'docked', u'docking', u'docs', u'doctor', u'doctoral', u'doctors', u'doctrinaire', u'doctrinal', u'doctrine', u'doctrines', u'document', u'documentary', u'documentation', u'documented', u'documents', u'dod', u'dodge', u'doe', u'doees', u'doen', u'does', u'doesn', u'dof', u'dog', u'dogma', u'dogmas', u'dogmatic', u'dogs', u'doi', u'doing', u'doings', u'doink', u'dokas', u'dolan', u'dole', u'dollar', u'dollars', u'dolphin', u'dolphins', u'domain', u'domains', u'domestic', u'domesticated']\n"
     ]
    }
   ],
   "source": [
    "# Вычислите TF-IDF-признаки для всех текстов. Обратите внимание, что в этом задании \n",
    "# мы предлагаем вам вычислить TF-IDF по всем данным. При таком подходе получается, \n",
    "# что признаки на обучающем множестве используют информацию из тестовой выборки — \n",
    "# но такая ситуация вполне законна, поскольку мы не используем значения целевой переменной \n",
    "# из теста. На практике нередко встречаются ситуации, когда признаки объектов тестовой выборки \n",
    "# известны на момент обучения, и поэтому можно ими пользоваться при обучении алгоритма.\n",
    "tfidf_vectorizer = TfidfVectorizer()\n",
    "X = tfidf_vectorizer.fit_transform(data.data)\n",
    "y = data.target\n",
    "all_words = tfidf_vectorizer.get_feature_names()\n",
    "print 'Words: {}'.format(len(all_words))\n",
    "print all_words[10000:10050]"
   ]
  },
  {
   "cell_type": "code",
   "execution_count": 8,
   "metadata": {
    "collapsed": false
   },
   "outputs": [
    {
     "data": {
      "text/plain": [
       "GridSearchCV(cv=KFold(n_splits=5, random_state=241, shuffle=True),\n",
       "       error_score='raise',\n",
       "       estimator=SVC(C=1.0, cache_size=200, class_weight=None, coef0=0.0,\n",
       "  decision_function_shape=None, degree=3, gamma='auto', kernel='linear',\n",
       "  max_iter=-1, probability=False, random_state=241, shrinking=True,\n",
       "  tol=0.001, verbose=False),\n",
       "       fit_params={}, iid=True, n_jobs=1,\n",
       "       param_grid={'C': array([  1.00000e-05,   1.00000e-04,   1.00000e-03,   1.00000e-02,\n",
       "         1.00000e-01,   1.00000e+00,   1.00000e+01,   1.00000e+02,\n",
       "         1.00000e+03,   1.00000e+04,   1.00000e+05])},\n",
       "       pre_dispatch='2*n_jobs', refit=True, return_train_score=True,\n",
       "       scoring='accuracy', verbose=0)"
      ]
     },
     "execution_count": 8,
     "metadata": {},
     "output_type": "execute_result"
    }
   ],
   "source": [
    "# Подберите минимальный лучший параметр C из множества [10^-5, 10^-4, ... 10^4, 10^5] \n",
    "# для SVM с линейным ядром (kernel='linear') при помощи кросс-валидации по 5 блокам. \n",
    "# Укажите параметр random_state=241 и для SVM, и для KFold. В качестве меры качества \n",
    "# используйте долю верных ответов (accuracy).\n",
    "cv = KFold(n_splits=5, shuffle=True, random_state=241)\n",
    "grid = {'C': np.power(10.0, np.arange(-5, 6))}\n",
    "method = SVC(kernel='linear', random_state=241)\n",
    "gs = GridSearchCV(method, grid, scoring='accuracy', cv=cv)\n",
    "gs.fit(X, y)"
   ]
  },
  {
   "cell_type": "code",
   "execution_count": 9,
   "metadata": {
    "collapsed": false
   },
   "outputs": [
    {
     "data": {
      "text/plain": [
       "SVC(C=1.0, cache_size=200, class_weight=None, coef0=0.0,\n",
       "  decision_function_shape=None, degree=3, gamma='auto', kernel='linear',\n",
       "  max_iter=-1, probability=False, random_state=241, shrinking=True,\n",
       "  tol=0.001, verbose=False)"
      ]
     },
     "execution_count": 9,
     "metadata": {},
     "output_type": "execute_result"
    }
   ],
   "source": [
    "# Обучите SVM по всей выборке с оптимальным параметром C, найденным на предыдущем шаге.\n",
    "best_method = gs.best_estimator_\n",
    "best_method.fit(X, y)"
   ]
  },
  {
   "cell_type": "code",
   "execution_count": 10,
   "metadata": {
    "collapsed": false
   },
   "outputs": [
    {
     "name": "stdout",
     "output_type": "stream",
     "text": [
      "Weights: (28382,)\n",
      "[ 0.29258057 -0.12314757  0.         ...,  0.01972862  0.05831336\n",
      " -0.00297347]\n",
      "Indices of words with max abs weights: (10,)\n",
      "[22936 15606  5776 21850 23673 17802  5093  5088 12871 24019]\n",
      "10 most crucial words:\n",
      "atheism atheists bible god keith moon religion sci sky space\n"
     ]
    }
   ],
   "source": [
    "# Найдите 10 слов с наибольшим абсолютным значением веса (веса хранятся в поле \n",
    "# coef_ у svm.SVC). Они являются ответом на это задание. Укажите эти слова через запятую \n",
    "# или пробел, в нижнем регистре, в лексикографическом порядке.\n",
    "num = 10\n",
    "weights = best_method.coef_.A.squeeze()\n",
    "print 'Weights: {}'.format(weights.shape)\n",
    "print weights\n",
    "indices = np.argsort(np.abs(weights))[-num:] #[::-1] to reverse\n",
    "print 'Indices of words with max abs weights: {}'.format(indices.shape)\n",
    "print indices\n",
    "words = np.array(all_words)[indices]\n",
    "print '{} most crucial words:'.format(num)\n",
    "print ' '.join(w for w in sorted(words))"
   ]
  },
  {
   "cell_type": "markdown",
   "metadata": {
    "collapsed": true
   },
   "source": [
    "## Логистическая регрессия\n",
    "### Логистическая регрессия\n",
    "\n",
    "Логистическая регрессия — один из видов линейных классификаторов. Одной из ее особенностей является возможность оценивания вероятностей классов, тогда как большинство линейных классификаторов могут выдавать только номера классов.\n",
    "\n",
    "Логистическая регрессия использует достаточно сложный функционал качества, который не допускает записи решения в явном виде (в отличие от, например, линейной регрессии). Тем не менее, логистическую регрессию можно настраивать с помощью градиентного спуска.\n",
    "\n",
    "Мы будем работать с выборкой, содержащей два признака. Будем считать, что ответы лежат в множестве {-1, 1}. Для настройки логистической регрессии мы будем решать следующую задачу:\n",
    "\n",
    "Здесь xi1 и xi2 — значение первого и второго признаков соответственно на объекте xi. В этом задании мы будем рассматривать алгоритмы без свободного члена, чтобы упростить работу.\n",
    "\n",
    "Градиентный шаг для весов будет заключаться в одновременном обновлении весов w1 и w2 по следующим формулам (проверьте сами, что здесь действительно выписана производная нашего функционала):\n",
    "\n",
    "Линейные методы могут переобучаться и давать плохое качество из-за различных проблем в данных: мультиколлинеарности, зашумленности и т.д. Чтобы избежать этого, следует использовать регуляризацию — она позволяет понизить сложность модели и не допустить переобучения. Сила регуляризации определяется коэффициентом C в формулах, указанных выше.\n",
    "\n",
    "В этом задании мы предлагаем вам самостоятельно реализовать градиентный спуск.\n",
    "\n",
    "В качестве метрики качества будем использовать AUC-ROC (Area Under ROC-Curve). Она предназначена для алгоритмов бинарной классификации, выдающих оценку принадлежности объекта к одному из классов. По сути, значение этой метрики является агрегацией показателей качества всех алгоритмов, которые можно получить, выбирая какой-либо порог для оценки принадлежности.\n",
    "\n",
    "В Scikit-Learn метрика AUC реализована функцией sklearn.metrics.roc_auc_score. В качестве первого аргумента ей передается вектор истинных ответов, в качестве второго — вектор с оценками принадлежности объектов к первому классу."
   ]
  },
  {
   "cell_type": "code",
   "execution_count": 37,
   "metadata": {
    "collapsed": true
   },
   "outputs": [],
   "source": [
    "from sklearn.metrics import *\n",
    "import math"
   ]
  },
  {
   "cell_type": "code",
   "execution_count": 38,
   "metadata": {
    "collapsed": false
   },
   "outputs": [],
   "source": [
    "# Загрузите данные из файла data-logistic.csv. Это двумерная выборка, \n",
    "# целевая переменная на которой принимает значения -1 или 1.\n",
    "data = pd.read_csv('data/data-logistic.csv', header=None)\n",
    "X = data.ix[:,1:].get_values()\n",
    "y = data.ix[:,0]"
   ]
  },
  {
   "cell_type": "code",
   "execution_count": 39,
   "metadata": {
    "collapsed": true
   },
   "outputs": [],
   "source": [
    "# Убедитесь, что выше выписаны правильные формулы для градиентного спуска. \n",
    "# Обратите внимание, что мы используем полноценный градиентный спуск, а не его \n",
    "# стохастический вариант!"
   ]
  },
  {
   "cell_type": "code",
   "execution_count": 40,
   "metadata": {
    "collapsed": false
   },
   "outputs": [],
   "source": [
    "# Реализуйте градиентный спуск для обычной и L2-регуляризованной (с коэффициентом \n",
    "# регуляризации 10) логистической регрессии. Используйте длину шага k=0.1. \n",
    "# В качестве начального приближения используйте вектор (0, 0).\n",
    "\n",
    "def gradient_descent_step(X, y, C, k, w):\n",
    "    L = X.shape[0]\n",
    "    M = X.shape[1]\n",
    "    assert(len(w) == M)\n",
    "    assert(y.shape[0] == L)\n",
    "\n",
    "    dot_product = [ np.dot(w, X[i,:]) for i in range(L) ]\n",
    "\n",
    "    w_new = np.array([ \n",
    "        w[j] \n",
    "        + k / L * np.sum(\n",
    "            [ y[i] * X[i,j] * (1 - 1 / (1 + math.exp(-y[i] * dot_product[i]))) for i in range(L) ]\n",
    "        )\n",
    "        - k * C * w[j] \n",
    "        for j in range(M) \n",
    "    ])\n",
    "    \n",
    "    return w_new\n",
    "\n",
    "\n",
    "def gradient_descent(X, y, C, k, N, w):\n",
    "    w_old = w\n",
    "    for i in range(0, N):\n",
    "        w_new = gradient_descent_step(X=X, y=y, C=C, k=k, w=w_old)\n",
    "        dist = np.linalg.norm(w_old - w_new)\n",
    "        \n",
    "        print 'Iteration #{}: w = {} distance={}'.format(i, w_new, dist)\n",
    "        \n",
    "        if dist < 1e-5:\n",
    "            return w_new\n",
    "\n",
    "        w_old = w_new\n",
    "    \n",
    "    print 'Max number of iterations ({}) is reached'.format(N)\n",
    "    \n",
    "    return w_old\n"
   ]
  },
  {
   "cell_type": "code",
   "execution_count": 41,
   "metadata": {
    "collapsed": false
   },
   "outputs": [
    {
     "name": "stdout",
     "output_type": "stream",
     "text": [
      "With regulation:\n",
      "Iteration #0: w = [ 0.03573127  0.03245997] distance=0.0482739384539\n",
      "Iteration #1: w = [ 0.02669911  0.02275351] distance=0.0132587803327\n",
      "Iteration #2: w = [ 0.02905739  0.02532643] distance=0.00349018975742\n",
      "Iteration #3: w = [ 0.02842657  0.02463533] distance=0.000935717143569\n",
      "Iteration #4: w = [ 0.02859494  0.02481978] distance=0.00024974376394\n",
      "Iteration #5: w = [ 0.02854995  0.02477049] distance=6.67386427032e-05\n",
      "Iteration #6: w = [ 0.02856197  0.02478366] distance=1.78286589294e-05\n",
      "Iteration #7: w = [ 0.02855875  0.02478014] distance=4.76318913958e-06\n",
      "Without regulation:\n",
      "Iteration #0: w = [ 0.03573127  0.03245997] distance=0.0482739384539\n",
      "Iteration #1: w = [ 0.06243037  0.05521348] distance=0.0350794046557\n",
      "Iteration #2: w = [ 0.08343428  0.07202494] distance=0.026903330054\n",
      "Iteration #3: w = [ 0.10067273  0.08502955] distance=0.0215936087286\n",
      "Iteration #4: w = [ 0.11522227  0.0953854 ] distance=0.0178586914115\n",
      "Iteration #5: w = [ 0.1277369   0.10377852] distance=0.0150685196187\n",
      "Iteration #6: w = [ 0.13864803  0.11065262] distance=0.0128959691048\n",
      "Iteration #7: w = [ 0.14825909  0.11631519] distance=0.0111551471299\n",
      "Iteration #8: w = [ 0.15679401  0.1209907 ] distance=0.00973165622625\n",
      "Iteration #9: w = [ 0.16442411  0.12484951] distance=0.00855037490412\n",
      "Iteration #10: w = [ 0.17128422  0.1280248 ] distance=0.00755933435951\n",
      "Iteration #11: w = [ 0.17748271  0.13062309] distance=0.00672104200518\n",
      "Iteration #12: w = [ 0.18310823  0.1327311 ] distance=0.0060075097568\n",
      "Iteration #13: w = [ 0.18823429  0.13442043] distance=0.00539724837012\n",
      "Iteration #14: w = [ 0.19292253  0.13575085] distance=0.00487336574723\n",
      "Iteration #15: w = [ 0.19722515  0.13677278] distance=0.00442231657194\n",
      "Iteration #16: w = [ 0.20118668  0.137529  ] distance=0.00403305335197\n",
      "Iteration #17: w = [ 0.20484534  0.13805607] distance=0.00369643457089\n",
      "Iteration #18: w = [ 0.20823418  0.13838541] distance=0.00340480317187\n",
      "Iteration #19: w = [ 0.21138186  0.13854411] distance=0.00315168112772\n",
      "Iteration #20: w = [ 0.21431338  0.13855564] distance=0.00293154487835\n",
      "Iteration #21: w = [ 0.21705061  0.13844037] distance=0.0027396579129\n",
      "Iteration #22: w = [ 0.21961276  0.13821605] distance=0.00257194398433\n",
      "Iteration #23: w = [ 0.22201672  0.13789816] distance=0.00242488918482\n",
      "Iteration #24: w = [ 0.22427743  0.13750023] distance=0.00229546440353\n",
      "Iteration #25: w = [ 0.2264081  0.1370341] distance=0.00218106209911\n",
      "Iteration #26: w = [ 0.22842045  0.13651015] distance=0.00207944314472\n",
      "Iteration #27: w = [ 0.2303249   0.13593747] distance=0.00198869089109\n",
      "Iteration #28: w = [ 0.23213073  0.13532406] distance=0.00190717062258\n",
      "Iteration #29: w = [ 0.23384622  0.13467691] distance=0.0018334933066\n",
      "Iteration #30: w = [ 0.23547876  0.13400218] distance=0.00176648301057\n",
      "Iteration #31: w = [ 0.23703499  0.13330526] distance=0.00170514763936\n",
      "Iteration #32: w = [ 0.23852084  0.1325909 ] distance=0.00164865278544\n",
      "Iteration #33: w = [ 0.23994164  0.13186324] distance=0.00159629853332\n",
      "Iteration #34: w = [ 0.24130219  0.13112591] distance=0.00154749906004\n",
      "Iteration #35: w = [ 0.24260681  0.1303821 ] distance=0.00150176485206\n",
      "Iteration #36: w = [ 0.24385941  0.12963459] distance=0.00145868733428\n",
      "Iteration #37: w = [ 0.2450635   0.12888581] distance=0.00141792568818\n",
      "Iteration #38: w = [ 0.24622228  0.12813786] distance=0.00137919562731\n",
      "Iteration #39: w = [ 0.24733862  0.12739258] distance=0.00134225989904\n",
      "Iteration #40: w = [ 0.24841515  0.12665156] distance=0.00130692029084\n",
      "Iteration #41: w = [ 0.24945426  0.12591616] distance=0.00127301093415\n",
      "Iteration #42: w = [ 0.25045811  0.12518756] distance=0.00124039271736\n",
      "Iteration #43: w = [ 0.25142869  0.12446678] distance=0.00120894864003\n",
      "Iteration #44: w = [ 0.25236781  0.12375466] distance=0.00117857996041\n",
      "Iteration #45: w = [ 0.25327711  0.12305193] distance=0.00114920300826\n",
      "Iteration #46: w = [ 0.25415813  0.12235919] distance=0.00112074655323\n",
      "Iteration #47: w = [ 0.25501225  0.12167695] distance=0.00109314963521\n",
      "Iteration #48: w = [ 0.25584076  0.12100561] distance=0.00106635977776\n",
      "Iteration #49: w = [ 0.25664484  0.1203455 ] distance=0.00104033151856\n",
      "Iteration #50: w = [ 0.25742558  0.11969688] distance=0.00101502520139\n",
      "Iteration #51: w = [ 0.25818401  0.11905994] distance=0.000990405983647\n",
      "Iteration #52: w = [ 0.25892106  0.11843482] distance=0.000966443021325\n",
      "Iteration #53: w = [ 0.25963759  0.1178216 ] distance=0.0009431087997\n",
      "Iteration #54: w = [ 0.26033444  0.11722035] distance=0.00092037858381\n",
      "Iteration #55: w = [ 0.26101234  0.11663106] distance=0.000898229967166\n",
      "Iteration #56: w = [ 0.26167202  0.11605372] distance=0.000876642501041\n",
      "Iteration #57: w = [ 0.26231414  0.11548827] distance=0.000855597389823\n",
      "Iteration #58: w = [ 0.26293932  0.11493464] distance=0.0008350772405\n",
      "Iteration #59: w = [ 0.26354815  0.11439273] distance=0.000815065856491\n",
      "Iteration #60: w = [ 0.26414118  0.11386244] distance=0.000795548067821\n",
      "Iteration #61: w = [ 0.26471893  0.11334363] distance=0.000776509591046\n",
      "Iteration #62: w = [ 0.26528191  0.11283616] distance=0.000757936913553\n",
      "Iteration #63: w = [ 0.26583057  0.11233987] distance=0.000739817197838\n",
      "Iteration #64: w = [ 0.26636536  0.11185461] distance=0.000722138202134\n",
      "Iteration #65: w = [ 0.26688671  0.1113802 ] distance=0.000704888214447\n",
      "Iteration #66: w = [ 0.26739501  0.11091646] distance=0.000688055997577\n",
      "Iteration #67: w = [ 0.26789066  0.11046323] distance=0.000671630743153\n",
      "Iteration #68: w = [ 0.26837401  0.1100203 ] distance=0.000655602033055\n",
      "Iteration #69: w = [ 0.26884542  0.10958749] distance=0.000639959806901\n",
      "Iteration #70: w = [ 0.26930522  0.10916462] distance=0.000624694334519\n",
      "Iteration #71: w = [ 0.26975375  0.10875149] distance=0.000609796192514\n",
      "Iteration #72: w = [ 0.2701913   0.10834791] distance=0.000595256244204\n",
      "Iteration #73: w = [ 0.27061817  0.10795368] distance=0.000581065622337\n",
      "Iteration #74: w = [ 0.27103466  0.10756862] distance=0.000567215714093\n",
      "Iteration #75: w = [ 0.27144104  0.10719253] distance=0.000553698147986\n",
      "Iteration #76: w = [ 0.27183757  0.10682524] distance=0.00054050478233\n",
      "Iteration #77: w = [ 0.27222451  0.10646653] distance=0.00052762769501\n",
      "Iteration #78: w = [ 0.27260212  0.10611625] distance=0.00051505917433\n",
      "Iteration #79: w = [ 0.27297062  0.10577419] distance=0.000502791710778\n",
      "Iteration #80: w = [ 0.27333026  0.10544018] distance=0.000490817989535\n",
      "Iteration #81: w = [ 0.27368125  0.10511404] distance=0.000479130883629\n",
      "Iteration #82: w = [ 0.27402383  0.10479559] distance=0.000467723447635\n",
      "Iteration #83: w = [ 0.27435819  0.10448466] distance=0.000456588911818\n",
      "Iteration #84: w = [ 0.27468455  0.10418109] distance=0.000445720676681\n",
      "Iteration #85: w = [ 0.2750031  0.1038847] distance=0.000435112307845\n",
      "Iteration #86: w = [ 0.27531403  0.10359532] distance=0.000424757531218\n",
      "Iteration #87: w = [ 0.27561755  0.1033128 ] distance=0.000414650228427\n",
      "Iteration #88: w = [ 0.27591381  0.10303699] distance=0.000404784432464\n",
      "Iteration #89: w = [ 0.27620302  0.10276771] distance=0.000395154323536\n",
      "Iteration #90: w = [ 0.27648533  0.10250483] distance=0.000385754225089\n",
      "Iteration #91: w = [ 0.27676092  0.10224819] distance=0.000376578599996\n",
      "Iteration #92: w = [ 0.27702994  0.10199765] distance=0.000367622046882\n",
      "Iteration #93: w = [ 0.27729257  0.10175307] distance=0.000358879296586\n",
      "Iteration #94: w = [ 0.27754895  0.10151429] distance=0.000350345208744\n",
      "Iteration #95: w = [ 0.27779923  0.1012812 ] distance=0.000342014768481\n",
      "Iteration #96: w = [ 0.27804356  0.10105365] distance=0.000333883083214\n",
      "Iteration #97: w = [ 0.27828209  0.10083152] distance=0.000325945379542\n",
      "Iteration #98: w = [ 0.27851496  0.10061467] distance=0.000318197000245\n",
      "Iteration #99: w = [ 0.27874229  0.10040298] distance=0.000310633401353\n",
      "Iteration #100: w = [ 0.27896423  0.10019633] distance=0.000303250149311\n",
      "Iteration #101: w = [ 0.2791809   0.09999459] distance=0.000296042918217\n",
      "Iteration #102: w = [ 0.27939242  0.09979766] distance=0.000289007487141\n",
      "Iteration #103: w = [ 0.27959893  0.09960542] distance=0.000282139737506\n",
      "Iteration #104: w = [ 0.27980054  0.09941776] distance=0.000275435650557\n",
      "Iteration #105: w = [ 0.27999737  0.09923456] distance=0.000268891304878\n",
      "Iteration #106: w = [ 0.28018953  0.09905573] distance=0.000262502873989\n",
      "Iteration #107: w = [ 0.28037714  0.09888115] distance=0.000256266623998\n",
      "Iteration #108: w = [ 0.28056029  0.09871073] distance=0.000250178911317\n",
      "Iteration #109: w = [ 0.28073911  0.09854437] distance=0.000244236180435\n",
      "Iteration #110: w = [ 0.28091368  0.09838196] distance=0.000238434961753\n",
      "Iteration #111: w = [ 0.28108412  0.09822343] distance=0.000232771869465\n",
      "Iteration #112: w = [ 0.28125052  0.09806867] distance=0.000227243599506\n",
      "Iteration #113: w = [ 0.28141298  0.09791759] distance=0.00022184692754\n",
      "Iteration #114: w = [ 0.28157158  0.09777011] distance=0.000216578707007\n",
      "Iteration #115: w = [ 0.28172643  0.09762614] distance=0.000211435867216\n",
      "Iteration #116: w = [ 0.28187761  0.09748559] distance=0.000206415411489\n",
      "Iteration #117: w = [ 0.2820252   0.09734839] distance=0.000201514415345\n",
      "Iteration #118: w = [ 0.2821693   0.09721446] distance=0.00019673002474\n",
      "Iteration #119: w = [ 0.28230999  0.09708371] distance=0.000192059454343\n",
      "Iteration #120: w = [ 0.28244734  0.09695608] distance=0.000187499985859\n",
      "Iteration #121: w = [ 0.28258143  0.09683148] distance=0.000183048966389\n",
      "Iteration #122: w = [ 0.28271236  0.09670985] distance=0.000178703806844\n",
      "Iteration #123: w = [ 0.28284018  0.09659111] distance=0.000174461980379\n",
      "Iteration #124: w = [ 0.28296497  0.09647519] distance=0.000170321020886\n",
      "Iteration #125: w = [ 0.2830868   0.09636203] distance=0.000166278521508\n",
      "Iteration #126: w = [ 0.28320575  0.09625157] distance=0.000162332133202\n",
      "Iteration #127: w = [ 0.28332188  0.09614373] distance=0.000158479563334\n",
      "Iteration #128: w = [ 0.28343526  0.09603846] distance=0.000154718574302\n",
      "Iteration #129: w = [ 0.28354596  0.09593569] distance=0.000151046982206\n",
      "Iteration #130: w = [ 0.28365403  0.09583536] distance=0.000147462655541\n",
      "Iteration #131: w = [ 0.28375955  0.09573742] distance=0.000143963513923\n",
      "Iteration #132: w = [ 0.28386256  0.0956418 ] distance=0.000140547526857\n",
      "Iteration #133: w = [ 0.28396313  0.09554847] distance=0.00013721271252\n",
      "Iteration #134: w = [ 0.28406133  0.09545734] distance=0.000133957136584\n",
      "Iteration #135: w = [ 0.28415719  0.09536839] distance=0.000130778911068\n",
      "Iteration #136: w = [ 0.28425079  0.09528155] distance=0.000127676193214\n",
      "Iteration #137: w = [ 0.28434216  0.09519677] distance=0.000124647184393\n",
      "Iteration #138: w = [ 0.28443138  0.09511401] distance=0.00012169012904\n",
      "Iteration #139: w = [ 0.28451848  0.09503322] distance=0.000118803313609\n",
      "Iteration #140: w = [ 0.28460351  0.09495434] distance=0.000115985065561\n",
      "Iteration #141: w = [ 0.28468654  0.09487734] distance=0.000113233752372\n",
      "Iteration #142: w = [ 0.28476759  0.09480217] distance=0.00011054778057\n",
      "Iteration #143: w = [ 0.28484673  0.09472879] distance=0.000107925594787\n",
      "Iteration #144: w = [ 0.28492399  0.09465715] distance=0.000105365676845\n",
      "Iteration #145: w = [ 0.28499942  0.09458721] distance=0.000102866544857\n",
      "Iteration #146: w = [ 0.28507307  0.09451893] distance=0.000100426752352\n",
      "Iteration #147: w = [ 0.28514497  0.09445227] distance=9.80448874244e-05\n",
      "Iteration #148: w = [ 0.28521517  0.0943872 ] distance=9.5719571897e-05\n",
      "Iteration #149: w = [ 0.2852837   0.09432367] distance=9.34494605129e-05\n",
      "Iteration #150: w = [ 0.28535061  0.09426165] distance=9.1233240141e-05\n",
      "Iteration #151: w = [ 0.28541594  0.0942011 ] distance=8.90696290044e-05\n",
      "Iteration #152: w = [ 0.28547972  0.094142  ] distance=8.69573759253e-05\n",
      "Iteration #153: w = [ 0.28554199  0.09408429] distance=8.489525959e-05\n",
      "Iteration #154: w = [ 0.28560278  0.09402796] distance=8.28820878306e-05\n",
      "Iteration #155: w = [ 0.28566213  0.09397296] distance=8.09166969253e-05\n",
      "Iteration #156: w = [ 0.28572008  0.09391927] distance=7.89979509146e-05\n",
      "Iteration #157: w = [ 0.28577666  0.09386685] distance=7.7124740935e-05\n",
      "Iteration #158: w = [ 0.28583189  0.09381568] distance=7.52959845685e-05\n",
      "Iteration #159: w = [ 0.28588582  0.09376572] distance=7.35106252079e-05\n",
      "Iteration #160: w = [ 0.28593846  0.09371695] distance=7.17676314377e-05\n",
      "Iteration #161: w = [ 0.28598987  0.09366933] distance=7.00659964298e-05\n",
      "Iteration #162: w = [ 0.28604005  0.09362285] distance=6.84047373539e-05\n",
      "Iteration #163: w = [ 0.28608905  0.09357747] distance=6.67828948026e-05\n",
      "Iteration #164: w = [ 0.28613688  0.09353316] distance=6.51995322296e-05\n",
      "Iteration #165: w = [ 0.28618358  0.09348991] distance=6.36537354023e-05\n",
      "Iteration #166: w = [ 0.28622918  0.09344768] distance=6.21446118675e-05\n",
      "Iteration #167: w = [ 0.28627369  0.09340646] distance=6.06712904294e-05\n",
      "Iteration #168: w = [ 0.28631715  0.09336622] distance=5.92329206409e-05\n",
      "Iteration #169: w = [ 0.28635958  0.09332692] distance=5.78286723073e-05\n",
      "Iteration #170: w = [ 0.28640101  0.09328857] distance=5.64577350012e-05\n",
      "Iteration #171: w = [ 0.28644145  0.09325112] distance=5.51193175898e-05\n",
      "Iteration #172: w = [ 0.28648094  0.09321456] distance=5.38126477735e-05\n",
      "Iteration #173: w = [ 0.28651949  0.09317886] distance=5.25369716354e-05\n",
      "Iteration #174: w = [ 0.28655713  0.09314402] distance=5.1291553202e-05\n",
      "Iteration #175: w = [ 0.28659387  0.09311   ] distance=5.00756740139e-05\n",
      "Iteration #176: w = [ 0.28662975  0.09307679] distance=4.88886327078e-05\n",
      "Iteration #177: w = [ 0.28666478  0.09304436] distance=4.77297446075e-05\n",
      "Iteration #178: w = [ 0.28669897  0.09301271] distance=4.65983413254e-05\n",
      "Iteration #179: w = [ 0.28673236  0.0929818 ] distance=4.5493770374e-05\n",
      "Iteration #180: w = [ 0.28676495  0.09295163] distance=4.44153947853e-05\n",
      "Iteration #181: w = [ 0.28679678  0.09292218] distance=4.33625927409e-05\n",
      "Iteration #182: w = [ 0.28682784  0.09289342] distance=4.23347572101e-05\n",
      "Iteration #183: w = [ 0.28685818  0.09286535] distance=4.13312955973e-05\n",
      "Iteration #184: w = [ 0.28688779  0.09283794] distance=4.03516293969e-05\n",
      "Iteration #185: w = [ 0.2869167   0.09281118] distance=3.93951938579e-05\n",
      "Iteration #186: w = [ 0.28694493  0.09278506] distance=3.8461437655e-05\n",
      "Iteration #187: w = [ 0.28697249  0.09275955] distance=3.75498225691e-05\n",
      "Iteration #188: w = [ 0.2869994   0.09273465] distance=3.66598231742e-05\n",
      "Iteration #189: w = [ 0.28702567  0.09271034] distance=3.57909265327e-05\n",
      "Iteration #190: w = [ 0.28705131  0.09268661] distance=3.49426318974e-05\n",
      "Iteration #191: w = [ 0.28707635  0.09266344] distance=3.41144504213e-05\n",
      "Iteration #192: w = [ 0.2871008   0.09264082] distance=3.33059048735e-05\n",
      "Iteration #193: w = [ 0.28712466  0.09261873] distance=3.25165293627e-05\n",
      "Iteration #194: w = [ 0.28714797  0.09259717] distance=3.17458690669e-05\n",
      "Iteration #195: w = [ 0.28717072  0.09257613] distance=3.09934799698e-05\n",
      "Iteration #196: w = [ 0.28719293  0.09255558] distance=3.02589286033e-05\n",
      "Iteration #197: w = [ 0.28721461  0.09253551] distance=2.95417917961e-05\n",
      "Iteration #198: w = [ 0.28723578  0.09251593] distance=2.88416564289e-05\n",
      "Iteration #199: w = [ 0.28725645  0.0924968 ] distance=2.81581191945e-05\n",
      "Iteration #200: w = [ 0.28727663  0.09247813] distance=2.74907863648e-05\n",
      "Iteration #201: w = [ 0.28729633  0.09245991] distance=2.6839273562e-05\n",
      "Iteration #202: w = [ 0.28731556  0.09244211] distance=2.6203205537e-05\n",
      "Iteration #203: w = [ 0.28733434  0.09242474] distance=2.55822159511e-05\n",
      "Iteration #204: w = [ 0.28735268  0.09240778] distance=2.49759471647e-05\n",
      "Iteration #205: w = [ 0.28737058  0.09239122] distance=2.43840500297e-05\n",
      "Iteration #206: w = [ 0.28738805  0.09237505] distance=2.38061836882e-05\n",
      "Iteration #207: w = [ 0.28740511  0.09235927] distance=2.32420153744e-05\n",
      "Iteration #208: w = [ 0.28742177  0.09234386] distance=2.26912202228e-05\n",
      "Iteration #209: w = [ 0.28743803  0.09232882] distance=2.21534810799e-05\n",
      "Iteration #210: w = [ 0.28745391  0.09231413] distance=2.16284883208e-05\n",
      "Iteration #211: w = [ 0.28746941  0.09229979] distance=2.11159396704e-05\n",
      "Iteration #212: w = [ 0.28748454  0.09228579] distance=2.06155400281e-05\n",
      "Iteration #213: w = [ 0.28749932  0.09227213] distance=2.0127001298e-05\n",
      "Iteration #214: w = [ 0.28751375  0.09225878] distance=1.96500422216e-05\n",
      "Iteration #215: w = [ 0.28752783  0.09224576] distance=1.91843882155e-05\n",
      "Iteration #216: w = [ 0.28754158  0.09223304] distance=1.87297712129e-05\n",
      "Iteration #217: w = [ 0.287555    0.09222062] distance=1.82859295085e-05\n",
      "Iteration #218: w = [ 0.28756811  0.0922085 ] distance=1.78526076073e-05\n",
      "Iteration #219: w = [ 0.28758091  0.09219667] distance=1.74295560771e-05\n",
      "Iteration #220: w = [ 0.2875934   0.09218511] distance=1.70165314043e-05\n",
      "Iteration #221: w = [ 0.28760559  0.09217383] distance=1.66132958534e-05\n",
      "Iteration #222: w = [ 0.2876175   0.09216282] distance=1.62196173295e-05\n",
      "Iteration #223: w = [ 0.28762913  0.09215207] distance=1.58352692444e-05\n",
      "Iteration #224: w = [ 0.28764048  0.09214157] distance=1.5460030386e-05\n",
      "Iteration #225: w = [ 0.28765156  0.09213132] distance=1.509368479e-05\n",
      "Iteration #226: w = [ 0.28766238  0.09212132] distance=1.47360216157e-05\n",
      "Iteration #227: w = [ 0.28767294  0.09211155] distance=1.43868350243e-05\n",
      "Iteration #228: w = [ 0.28768325  0.09210201] distance=1.40459240599e-05\n",
      "Iteration #229: w = [ 0.28769332  0.0920927 ] distance=1.37130925334e-05\n",
      "Iteration #230: w = [ 0.28770315  0.09208361] distance=1.33881489096e-05\n",
      "Iteration #231: w = [ 0.28771274  0.09207474] distance=1.30709061968e-05\n",
      "Iteration #232: w = [ 0.28772211  0.09206607] distance=1.27611818382e-05\n",
      "Iteration #233: w = [ 0.28773126  0.09205761] distance=1.24587976073e-05\n",
      "Iteration #234: w = [ 0.28774019  0.09204935] distance=1.21635795049e-05\n",
      "Iteration #235: w = [ 0.28774891  0.09204129] distance=1.18753576585e-05\n",
      "Iteration #236: w = [ 0.28775742  0.09203342] distance=1.15939662245e-05\n",
      "Iteration #237: w = [ 0.28776573  0.09202574] distance=1.13192432925e-05\n",
      "Iteration #238: w = [ 0.28777385  0.09201823] distance=1.10510307922e-05\n",
      "Iteration #239: w = [ 0.28778177  0.09201091] distance=1.07891744016e-05\n",
      "Iteration #240: w = [ 0.2877895   0.09200376] distance=1.05335234588e-05\n",
      "Iteration #241: w = [ 0.28779705  0.09199677] distance=1.02839308745e-05\n",
      "Iteration #242: w = [ 0.28780442  0.09198996] distance=1.00402530474e-05\n",
      "Iteration #243: w = [ 0.28781162  0.0919833 ] distance=9.80234978163e-06\n"
     ]
    }
   ],
   "source": [
    "# Запустите градиентный спуск и доведите до сходимости (евклидово расстояние между \n",
    "# векторами весов на соседних итерациях должно быть не больше 1e-5). Рекомендуется \n",
    "# ограничить сверху число итераций десятью тысячами.\n",
    "C = 10\n",
    "k = 0.1\n",
    "w1 = 0\n",
    "w2 = 0\n",
    "N = 10000\n",
    "w = np.array([0, 0])\n",
    "print 'With regulation:'\n",
    "w_opt_regul = gradient_descent(X=X, y=y, C=C, k=k, N=N, w=w)\n",
    "print 'Without regulation:'\n",
    "w_opt_noregul = gradient_descent(X=X, y=y, C=0, k=k, N=N, w=w)"
   ]
  },
  {
   "cell_type": "code",
   "execution_count": 42,
   "metadata": {
    "collapsed": false
   },
   "outputs": [
    {
     "name": "stdout",
     "output_type": "stream",
     "text": [
      "AUC-ROC:\n",
      "0.926857142857 0.936285714286\n"
     ]
    }
   ],
   "source": [
    "# Какое значение принимает AUC-ROC на обучении без регуляризации и при ее использовании? \n",
    "# Эти величины будут ответом на задание. В качестве ответа приведите два числа через пробел. \n",
    "# Обратите внимание, что на вход функции roc_auc_score нужно подавать оценки вероятностей, \n",
    "# подсчитанные обученным алгоритмом. Для этого воспользуйтесь сигмоидной функцией: \n",
    "# a(x) = 1 / (1 + exp(-w1 x1 - w2 x2)).\n",
    "def get_auc_score(X, y_true, w):\n",
    "    L = X.shape[0]\n",
    "    y_predict = np.array([ 1 / (1 + math.exp(-np.dot(w, X[i,:]))) for i in range(L) ])\n",
    "    return roc_auc_score(y_true, y_predict)\n",
    "\n",
    "print 'AUC-ROC:'\n",
    "print '{} {}'.format(get_auc_score(X, y, w_opt_noregul), get_auc_score(X, y, w_opt_regul))"
   ]
  },
  {
   "cell_type": "code",
   "execution_count": 43,
   "metadata": {
    "collapsed": false
   },
   "outputs": [],
   "source": [
    "# Попробуйте поменять длину шага. Будет ли сходиться алгоритм, если делать более длинные шаги? \n",
    "# Как меняется число итераций при уменьшении длины шага?\n",
    "# w_opt1 = gradient_descent(X=X, y=y, C=C, k=0.2, N=N, w=w) # расходится при k>0.1\n",
    "# w_opt1 = gradient_descent(X=X, y=y, C=C, k=0.03, N=N, w=w) # дольше сходится при k<0.1"
   ]
  },
  {
   "cell_type": "code",
   "execution_count": 44,
   "metadata": {
    "collapsed": false
   },
   "outputs": [],
   "source": [
    "# Попробуйте менять начальное приближение. Влияет ли оно на что-нибудь?\n",
    "# w_opt1 = gradient_descent(X=X, y=y, C=C, k=0.1, N=N, w=np.array([10, 10])) # не влияет"
   ]
  },
  {
   "cell_type": "markdown",
   "metadata": {},
   "source": [
    "## Метрики качества\n",
    "### Метрики качества классификации\n",
    "\n",
    "В задачах классификации может быть много особенностей, влияющих на подсчет качества: различные цены ошибок, несбалансированность классов и т.д. Из-за этого существует большое количество метрик качества — каждая из них рассчитана на определенное сочетание свойств задачи и требований к ее решению.\n",
    "\n",
    "Меры качества классификации можно разбить на две большие группы: предназначенные для алгоритмов, выдающих номера классов, и для алгоритмов, выдающих оценки принадлежности к классам. К первой группе относятся доля правильных ответов, точность, полнота, F-мера. Ко второй — площади под ROC- или PR-кривой.\n",
    "\n",
    "Различные метрики качества реализованы в пакете sklearn.metrics. Конкретные функции указаны в инструкции по выполнению задания."
   ]
  },
  {
   "cell_type": "code",
   "execution_count": 45,
   "metadata": {
    "collapsed": false
   },
   "outputs": [
    {
     "data": {
      "text/html": [
       "<div>\n",
       "<table border=\"1\" class=\"dataframe\">\n",
       "  <thead>\n",
       "    <tr style=\"text-align: right;\">\n",
       "      <th></th>\n",
       "      <th>true</th>\n",
       "      <th>pred</th>\n",
       "    </tr>\n",
       "  </thead>\n",
       "  <tbody>\n",
       "    <tr>\n",
       "      <th>0</th>\n",
       "      <td>1</td>\n",
       "      <td>0</td>\n",
       "    </tr>\n",
       "    <tr>\n",
       "      <th>1</th>\n",
       "      <td>1</td>\n",
       "      <td>1</td>\n",
       "    </tr>\n",
       "    <tr>\n",
       "      <th>2</th>\n",
       "      <td>1</td>\n",
       "      <td>1</td>\n",
       "    </tr>\n",
       "    <tr>\n",
       "      <th>3</th>\n",
       "      <td>0</td>\n",
       "      <td>0</td>\n",
       "    </tr>\n",
       "    <tr>\n",
       "      <th>4</th>\n",
       "      <td>1</td>\n",
       "      <td>1</td>\n",
       "    </tr>\n",
       "  </tbody>\n",
       "</table>\n",
       "</div>"
      ],
      "text/plain": [
       "   true  pred\n",
       "0     1     0\n",
       "1     1     1\n",
       "2     1     1\n",
       "3     0     0\n",
       "4     1     1"
      ]
     },
     "execution_count": 45,
     "metadata": {},
     "output_type": "execute_result"
    }
   ],
   "source": [
    "# Загрузите файл classification.csv. В нем записаны истинные классы объектов выборки \n",
    "# (колонка true) и ответы некоторого классификатора (колонка pred).\n",
    "data = pd.read_csv('data/classification.csv')\n",
    "data.head(5)"
   ]
  },
  {
   "cell_type": "code",
   "execution_count": 46,
   "metadata": {
    "collapsed": false
   },
   "outputs": [
    {
     "name": "stdout",
     "output_type": "stream",
     "text": [
      "43 34 59 64\n"
     ]
    }
   ],
   "source": [
    "# Заполните таблицу ошибок классификации:\n",
    "# Для этого подсчитайте величины TP, FP, FN и TN согласно их определениям. \n",
    "# Например, FP — это количество объектов, имеющих класс 0, но отнесенных алгоритмом к классу 1. \n",
    "# Ответ в данном вопросе — четыре числа через пробел.\n",
    "TP = np.where(data.true + data.pred == 2)[0].size\n",
    "FP = np.nonzero(data.pred - data.true == 1)[0].size\n",
    "FN = np.nonzero(data.true - data.pred == 1)[0].size\n",
    "TN = np.nonzero(data.true + data.pred == 0)[0].size\n",
    "print '{} {} {} {}'.format(TP, FP, FN, TN)"
   ]
  },
  {
   "cell_type": "code",
   "execution_count": 54,
   "metadata": {
    "collapsed": false
   },
   "outputs": [
    {
     "name": "stdout",
     "output_type": "stream",
     "text": [
      "0.535 0.558441558442 0.421568627451 0.480446927374\n"
     ]
    }
   ],
   "source": [
    "# Посчитайте основные метрики качества классификатора:\n",
    "# - Accuracy (доля верно угаданных) — sklearn.metrics.accuracy_score\n",
    "# - Precision (точность) — sklearn.metrics.precision_score\n",
    "# - Recall (полнота) — sklearn.metrics.recall_score\n",
    "# - F-мера — sklearn.metrics.f1_score\n",
    "# В качестве ответа укажите эти четыре числа через пробел.\n",
    "accuracy = accuracy_score(data.true, data.pred)\n",
    "precision = precision_score(data.true, data.pred)\n",
    "recall = recall_score(data.true, data.pred)\n",
    "f1 = f1_score(data.true, data.pred)\n",
    "print '{} {} {} {}'.format(accuracy, precision, recall, f1)"
   ]
  },
  {
   "cell_type": "code",
   "execution_count": 159,
   "metadata": {
    "collapsed": false
   },
   "outputs": [],
   "source": [
    "# Имеется четыре обученных классификатора. В файле scores.csv записаны истинные классы и \n",
    "# значения степени принадлежности положительному классу для каждого классификатора на \n",
    "# некоторой выборке:\n",
    "# - для логистической регрессии — вероятность положительного класса (колонка score_logreg),\n",
    "# - для SVM — отступ от разделяющей поверхности (колонка score_svm),\n",
    "# - для метрического алгоритма — взвешенная сумма классов соседей (колонка score_knn),\n",
    "# - для решающего дерева — доля положительных объектов в листе (колонка score_tree).\n",
    "# Загрузите этот файл.\n",
    "data = pd.read_csv('data/scores.csv')\n",
    "data.head(5)\n",
    "columns = data.columns.get_values()"
   ]
  },
  {
   "cell_type": "code",
   "execution_count": 160,
   "metadata": {
    "collapsed": false
   },
   "outputs": [
    {
     "name": "stdout",
     "output_type": "stream",
     "text": [
      "['score_logreg' 0.719187675070028]\n"
     ]
    }
   ],
   "source": [
    "# Посчитайте площадь под ROC-кривой для каждого классификатора. \n",
    "# Какой классификатор имеет наибольшее значение метрики AUC-ROC (укажите название столбца)? \n",
    "# Воспользуйтесь функцией sklearn.metrics.roc_auc_score.\n",
    "roc_aucs = np.array([ roc_auc_score(data.true, data.ix[:,i]) for i in range(1, data.shape[1]) ])\n",
    "scores = np.vstack((columns[1:], roc_aucs)).transpose()\n",
    "print scores[np.argmax(scores[:,1]),:]"
   ]
  },
  {
   "cell_type": "code",
   "execution_count": 209,
   "metadata": {
    "collapsed": false
   },
   "outputs": [
    {
     "name": "stdout",
     "output_type": "stream",
     "text": [
      "Max precision for >=70% recall:\n",
      "score_logreg 0.63025210084\n",
      "score_svm 0.622807017544\n",
      "score_knn 0.606557377049\n",
      "score_tree 0.651785714286\n"
     ]
    }
   ],
   "source": [
    "# Какой классификатор достигает наибольшей точности (Precision) при полноте (Recall) \n",
    "# не менее 70% ?\n",
    "# Чтобы получить ответ на этот вопрос, найдите все точки precision-recall-кривой \n",
    "# с помощью функции sklearn.metrics.precision_recall_curve. Она возвращает три массива: \n",
    "# precision, recall, thresholds. В них записаны точность и полнота при определенных порогах, \n",
    "# указанных в массиве thresholds. Найдите максимальной значение точности среди тех записей, \n",
    "# для которых полнота не меньше, чем 0.7.\n",
    "print 'Max precision for >=70% recall:'\n",
    "for i in range(1, data.shape[1]):\n",
    "    p, r, t = precision_recall_curve(data.true, data.ix[:,i])\n",
    "    p1 = np.max(p[np.where(r >= 0.7)])\n",
    "    print columns[i], p1"
   ]
  },
  {
   "cell_type": "code",
   "execution_count": 210,
   "metadata": {
    "collapsed": false
   },
   "outputs": [
    {
     "data": {
      "image/png": "[encoded data removed]",
      "text/plain": [
       "<matplotlib.figure.Figure at 0x11ec60e50>"
      ]
     },
     "metadata": {},
     "output_type": "display_data"
    }
   ],
   "source": [
    "from matplotlib import pyplot as plt\n",
    "\n",
    "plt.close()\n",
    "\n",
    "for i in range(1, data.shape[1]):\n",
    "    p, r, _ = precision_recall_curve(data.true, data.ix[:,i])\n",
    "    plt.plot(r, p, label=columns[i])\n",
    "\n",
    "plt.title('PRC')\n",
    "plt.xlabel('recall')\n",
    "plt.ylabel('precision')\n",
    "plt.legend()\n",
    "plt.show()"
   ]
  },
  {
   "cell_type": "code",
   "execution_count": null,
   "metadata": {
    "collapsed": true
   },
   "outputs": [],
   "source": []
  }
 ],
 "metadata": {
  "kernelspec": {
   "display_name": "Python [Root]",
   "language": "python",
   "name": "Python [Root]"
  },
  "language_info": {
   "codemirror_mode": {
    "name": "ipython",
    "version": 2
   },
   "file_extension": ".py",
   "mimetype": "text/x-python",
   "name": "python",
   "nbconvert_exporter": "python",
   "pygments_lexer": "ipython2",
   "version": "2.7.13"
  }
 },
 "nbformat": 4,
 "nbformat_minor": 2
}
