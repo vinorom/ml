{
 "cells": [
  {
   "cell_type": "markdown",
   "metadata": {},
   "source": [
    "# Week #1\n",
    "## Знакомство с инструментами\n",
    "### Предобработка данных в Pandas"
   ]
  },
  {
   "cell_type": "code",
   "execution_count": 2,
   "metadata": {
    "collapsed": false
   },
   "outputs": [],
   "source": [
    "import pandas as pd\n",
    "import numpy as np"
   ]
  },
  {
   "cell_type": "code",
   "execution_count": 3,
   "metadata": {
    "collapsed": false
   },
   "outputs": [
    {
     "data": {
      "text/html": [
       "<div>\n",
       "<table border=\"1\" class=\"dataframe\">\n",
       "  <thead>\n",
       "    <tr style=\"text-align: right;\">\n",
       "      <th></th>\n",
       "      <th>Survived</th>\n",
       "      <th>Pclass</th>\n",
       "      <th>Name</th>\n",
       "      <th>Sex</th>\n",
       "      <th>Age</th>\n",
       "      <th>SibSp</th>\n",
       "      <th>Parch</th>\n",
       "      <th>Ticket</th>\n",
       "      <th>Fare</th>\n",
       "      <th>Cabin</th>\n",
       "      <th>Embarked</th>\n",
       "    </tr>\n",
       "    <tr>\n",
       "      <th>PassengerId</th>\n",
       "      <th></th>\n",
       "      <th></th>\n",
       "      <th></th>\n",
       "      <th></th>\n",
       "      <th></th>\n",
       "      <th></th>\n",
       "      <th></th>\n",
       "      <th></th>\n",
       "      <th></th>\n",
       "      <th></th>\n",
       "      <th></th>\n",
       "    </tr>\n",
       "  </thead>\n",
       "  <tbody>\n",
       "    <tr>\n",
       "      <th>1</th>\n",
       "      <td>0</td>\n",
       "      <td>3</td>\n",
       "      <td>Braund, Mr. Owen Harris</td>\n",
       "      <td>male</td>\n",
       "      <td>22.0</td>\n",
       "      <td>1</td>\n",
       "      <td>0</td>\n",
       "      <td>A/5 21171</td>\n",
       "      <td>7.2500</td>\n",
       "      <td>NaN</td>\n",
       "      <td>S</td>\n",
       "    </tr>\n",
       "    <tr>\n",
       "      <th>2</th>\n",
       "      <td>1</td>\n",
       "      <td>1</td>\n",
       "      <td>Cumings, Mrs. John Bradley (Florence Briggs Th...</td>\n",
       "      <td>female</td>\n",
       "      <td>38.0</td>\n",
       "      <td>1</td>\n",
       "      <td>0</td>\n",
       "      <td>PC 17599</td>\n",
       "      <td>71.2833</td>\n",
       "      <td>C85</td>\n",
       "      <td>C</td>\n",
       "    </tr>\n",
       "    <tr>\n",
       "      <th>3</th>\n",
       "      <td>1</td>\n",
       "      <td>3</td>\n",
       "      <td>Heikkinen, Miss. Laina</td>\n",
       "      <td>female</td>\n",
       "      <td>26.0</td>\n",
       "      <td>0</td>\n",
       "      <td>0</td>\n",
       "      <td>STON/O2. 3101282</td>\n",
       "      <td>7.9250</td>\n",
       "      <td>NaN</td>\n",
       "      <td>S</td>\n",
       "    </tr>\n",
       "    <tr>\n",
       "      <th>4</th>\n",
       "      <td>1</td>\n",
       "      <td>1</td>\n",
       "      <td>Futrelle, Mrs. Jacques Heath (Lily May Peel)</td>\n",
       "      <td>female</td>\n",
       "      <td>35.0</td>\n",
       "      <td>1</td>\n",
       "      <td>0</td>\n",
       "      <td>113803</td>\n",
       "      <td>53.1000</td>\n",
       "      <td>C123</td>\n",
       "      <td>S</td>\n",
       "    </tr>\n",
       "    <tr>\n",
       "      <th>5</th>\n",
       "      <td>0</td>\n",
       "      <td>3</td>\n",
       "      <td>Allen, Mr. William Henry</td>\n",
       "      <td>male</td>\n",
       "      <td>35.0</td>\n",
       "      <td>0</td>\n",
       "      <td>0</td>\n",
       "      <td>373450</td>\n",
       "      <td>8.0500</td>\n",
       "      <td>NaN</td>\n",
       "      <td>S</td>\n",
       "    </tr>\n",
       "  </tbody>\n",
       "</table>\n",
       "</div>"
      ],
      "text/plain": [
       "             Survived  Pclass  \\\n",
       "PassengerId                     \n",
       "1                   0       3   \n",
       "2                   1       1   \n",
       "3                   1       3   \n",
       "4                   1       1   \n",
       "5                   0       3   \n",
       "\n",
       "                                                          Name     Sex   Age  \\\n",
       "PassengerId                                                                    \n",
       "1                                      Braund, Mr. Owen Harris    male  22.0   \n",
       "2            Cumings, Mrs. John Bradley (Florence Briggs Th...  female  38.0   \n",
       "3                                       Heikkinen, Miss. Laina  female  26.0   \n",
       "4                 Futrelle, Mrs. Jacques Heath (Lily May Peel)  female  35.0   \n",
       "5                                     Allen, Mr. William Henry    male  35.0   \n",
       "\n",
       "             SibSp  Parch            Ticket     Fare Cabin Embarked  \n",
       "PassengerId                                                          \n",
       "1                1      0         A/5 21171   7.2500   NaN        S  \n",
       "2                1      0          PC 17599  71.2833   C85        C  \n",
       "3                0      0  STON/O2. 3101282   7.9250   NaN        S  \n",
       "4                1      0            113803  53.1000  C123        S  \n",
       "5                0      0            373450   8.0500   NaN        S  "
      ]
     },
     "execution_count": 3,
     "metadata": {},
     "output_type": "execute_result"
    }
   ],
   "source": [
    "data = pd.read_csv('data/titanic.csv', index_col = 'PassengerId')\n",
    "data.head(5)"
   ]
  },
  {
   "cell_type": "code",
   "execution_count": 4,
   "metadata": {
    "collapsed": false
   },
   "outputs": [
    {
     "name": "stdout",
     "output_type": "stream",
     "text": [
      "Какое количество мужчин и женщин ехало на корабле?\n",
      "577 314\n"
     ]
    }
   ],
   "source": [
    "print 'Какое количество мужчин и женщин ехало на корабле?'\n",
    "# В качестве ответа приведите два числа через пробел.\n",
    "print ' '.join(map(str, data.Sex.value_counts().get_values()))"
   ]
  },
  {
   "cell_type": "code",
   "execution_count": 5,
   "metadata": {
    "collapsed": false
   },
   "outputs": [
    {
     "name": "stdout",
     "output_type": "stream",
     "text": [
      "Какой части пассажиров удалось выжить?\n",
      "38.38\n"
     ]
    }
   ],
   "source": [
    "print 'Какой части пассажиров удалось выжить?'\n",
    "# Посчитайте долю выживших пассажиров. Ответ приведите в процентах \n",
    "# (число в интервале от 0 до 100, знак процента не нужен), округлив до двух знаков.\n",
    "print round(float(np.nonzero(data.Survived != 0)[0].size) / data.shape[0] * 100, 2)"
   ]
  },
  {
   "cell_type": "code",
   "execution_count": 6,
   "metadata": {
    "collapsed": false
   },
   "outputs": [
    {
     "name": "stdout",
     "output_type": "stream",
     "text": [
      "Какую долю пассажиры первого класса составляли среди всех пассажиров?\n",
      "24.24\n"
     ]
    }
   ],
   "source": [
    "print 'Какую долю пассажиры первого класса составляли среди всех пассажиров?'\n",
    "# Ответ приведите в процентах (число в интервале от 0 до 100, знак процента не нужен), \n",
    "# округлив до двух знаков.\n",
    "print round(float(np.nonzero(data.Pclass == 1)[0].size) / data.shape[0] * 100, 2)"
   ]
  },
  {
   "cell_type": "code",
   "execution_count": 7,
   "metadata": {
    "collapsed": false
   },
   "outputs": [
    {
     "name": "stdout",
     "output_type": "stream",
     "text": [
      "Какого возраста были пассажиры?\n",
      "29.6991176471 28.0\n"
     ]
    }
   ],
   "source": [
    "print 'Какого возраста были пассажиры?'\n",
    "# Посчитайте среднее и медиану возраста пассажиров. \n",
    "# В качестве ответа приведите два числа через пробел.\n",
    "print np.nanmean(data.Age), np.nanmedian(data.Age)"
   ]
  },
  {
   "cell_type": "code",
   "execution_count": 8,
   "metadata": {
    "collapsed": false
   },
   "outputs": [
    {
     "name": "stdout",
     "output_type": "stream",
     "text": [
      "Коррелируют ли число братьев/сестер/супругов с числом родителей/детей?\n",
      "0.41483769862\n"
     ]
    }
   ],
   "source": [
    "print 'Коррелируют ли число братьев/сестер/супругов с числом родителей/детей?'\n",
    "# Посчитайте корреляцию Пирсона между признаками SibSp и Parch.\n",
    "print np.corrcoef(data.SibSp, data.Parch)[0, 1]"
   ]
  },
  {
   "cell_type": "code",
   "execution_count": 9,
   "metadata": {
    "collapsed": false
   },
   "outputs": [
    {
     "name": "stdout",
     "output_type": "stream",
     "text": [
      "Какое самое популярное женское имя на корабле?\n"
     ]
    },
    {
     "data": {
      "text/plain": [
       "Mary                          7\n",
       "Bertha                        4\n",
       "Anna                          4\n",
       "Anna Sofia                    3\n",
       "Katherine \"Katie\"             2\n",
       "Lucile Polk                   2\n",
       "Elizabeth                     2\n",
       "Alice                         2\n",
       "Ellen \"Nellie\"                2\n",
       "Marija                        2\n",
       "Kate                          2\n",
       "Hanora \"Nora\"                 2\n",
       "Imanita Parrish Hall          1\n",
       "Anna Sigrid Maria Brogren     1\n",
       "Edith Martha Bowerman         1\n",
       "Alice Elizabeth               1\n",
       "Johanna Persdotter Larsson    1\n",
       "Ingeborg Constanzia           1\n",
       "Mary Conover                  1\n",
       "Albina                        1\n",
       "Asuncion                      1\n",
       "Mathilde                      1\n",
       "Brigdet Delia                 1\n",
       "Georgette Alexandra           1\n",
       "Susan Parker \"Suzette\"        1\n",
       "Ellen                         1\n",
       "Amy Frances Christy           1\n",
       "Anna Sophia Atkinson          1\n",
       "Marie Grice                   1\n",
       "Sylvia Mae Harbaugh           1\n",
       "                             ..\n",
       "Marjorie                      1\n",
       "Lillian Amy                   1\n",
       "Elizabeth Anne Wilkinson      1\n",
       "Catherine David               1\n",
       "Lutie Davis                   1\n",
       "Julie Rachel                  1\n",
       "Anna Kristine                 1\n",
       "Elizabeth Ramell              1\n",
       "Leah Rosen                    1\n",
       "Phyllis May                   1\n",
       "Ellen Natalia                 1\n",
       "Florence Kate White           1\n",
       "Marion Louise                 1\n",
       "Margaret Edith                1\n",
       "Maria Elias                   1\n",
       "Jamila                        1\n",
       "Nourelain                     1\n",
       "Edith Junkins                 1\n",
       "Sultana                       1\n",
       "Augusta Charlotta             1\n",
       "Helen Loraine                 1\n",
       "Edwiga Grabowska              1\n",
       "Daisy E                       1\n",
       "Juliet Cummins Wright         1\n",
       "Jeannie                       1\n",
       "Elisabeth Walton              1\n",
       "Alice Adelaide Slow           1\n",
       "Ann Elizabeth                 1\n",
       "Annie Clemmer                 1\n",
       "                              1\n",
       "Name: FName, dtype: int64"
      ]
     },
     "execution_count": 9,
     "metadata": {},
     "output_type": "execute_result"
    }
   ],
   "source": [
    "print 'Какое самое популярное женское имя на корабле?'\n",
    "# Извлеките из полного имени пассажира (колонка Name) его личное имя (First Name). \n",
    "# Это задание — типичный пример того, с чем сталкивается специалист по анализу данных. \n",
    "# Данные очень разнородные и шумные, но из них требуется извлечь необходимую информацию. \n",
    "# Попробуйте вручную разобрать несколько значений столбца Name и выработать правило \n",
    "# для извлечения имен, а также разделения их на женские и мужские.\n",
    "mans = data.Sex == 'male'\n",
    "womems = data.Sex == 'female'\n",
    "miss = data.Name.str.contains('Miss.')\n",
    "mrs = data.Name.str.contains('Mrs.')\n",
    "data.ix[mans, 'FName'] = data[mans]['Name'].str.extract('\\. ([^().,]*)', expand=False)\n",
    "data.ix[miss, 'FName'] = data[miss]['Name'].str.extract('\\. ([^().,]*)', expand=False)\n",
    "data.ix[mrs, 'FName'] = data[mrs]['Name'].str.extract('\\(([^().,]*)', expand=False)\n",
    "data[data.Sex == 'female']['FName'].value_counts()"
   ]
  },
  {
   "cell_type": "markdown",
   "metadata": {},
   "source": [
    "## Решающие деревья\n",
    "### Важность признаков"
   ]
  },
  {
   "cell_type": "code",
   "execution_count": 10,
   "metadata": {
    "collapsed": false
   },
   "outputs": [
    {
     "data": {
      "text/plain": [
       "array([['Pclass', 'Fare', 'Age', 'Sex'],\n",
       "       [0.14751816099515025, 0.2953846784065746, 0.25658494964003575,\n",
       "        0.3005122109582393]], dtype=object)"
      ]
     },
     "execution_count": 10,
     "metadata": {},
     "output_type": "execute_result"
    }
   ],
   "source": [
    "# Оставьте в выборке четыре признака: класс пассажира (Pclass), цену билета (Fare), \n",
    "# возраст пассажира (Age) и его пол (Sex).\n",
    "# Обратите внимание, что признак Sex имеет строковые значения.\n",
    "# Выделите целевую переменную — она записана в столбце Survived.\n",
    "# В данных есть пропущенные значения — например, для некоторых пассажиров неизвестен \n",
    "# их возраст. Такие записи при чтении их в pandas принимают значение nan. \n",
    "# Найдите все объекты, у которых есть пропущенные признаки, и удалите их из выборки.\n",
    "data.ix[mans, 'Sex'] = 0\n",
    "data.ix[womems, 'Sex'] = 1\n",
    "data1 = data[['Survived', 'Pclass', 'Fare', 'Age', 'Sex']].dropna()\n",
    "X = data1[['Pclass', 'Fare', 'Age', 'Sex']]\n",
    "y = data1['Survived']\n",
    "\n",
    "# Обучите решающее дерево с параметром random_state=241 и остальными параметрами по умолчанию.\n",
    "from sklearn.tree import DecisionTreeClassifier\n",
    "clf = DecisionTreeClassifier(random_state=241)\n",
    "clf.fit(X, y)\n",
    "\n",
    "# Вычислите важности признаков и найдите два признака с наибольшей важностью. \n",
    "# Их названия будут ответами для данной задачи (в качестве ответа укажите названия \n",
    "# признаков через запятую или пробел, порядок не важен).\n",
    "importances = clf.feature_importances_\n",
    "feature_importances = np.vstack((X.columns, importances))\n",
    "feature_importances"
   ]
  },
  {
   "cell_type": "code",
   "execution_count": null,
   "metadata": {
    "collapsed": true
   },
   "outputs": [],
   "source": []
  }
 ],
 "metadata": {
  "anaconda-cloud": {},
  "kernelspec": {
   "display_name": "Python [Root]",
   "language": "python",
   "name": "Python [Root]"
  },
  "language_info": {
   "codemirror_mode": {
    "name": "ipython",
    "version": 2
   },
   "file_extension": ".py",
   "mimetype": "text/x-python",
   "name": "python",
   "nbconvert_exporter": "python",
   "pygments_lexer": "ipython2",
   "version": "2.7.13"
  }
 },
 "nbformat": 4,
 "nbformat_minor": 0
}
