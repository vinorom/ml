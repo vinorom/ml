{
 "cells": [
  {
   "cell_type": "markdown",
   "metadata": {},
   "source": [
    "# Week#5\n",
    "## Композиции алгоритмов\n",
    "### Размер случайного леса\n",
    "\n",
    "Случайный лес — это модель классификации, объединяющая некоторое количество решающих деревьев в одну композицию, за счет чего улучшается их качество работы и обобщающая способность. Деревья строятся независимо друг от друга. Чтобы они отличались друг от друга, обучение проводится не на всей обучающей выборке, а на ее случайном подмножестве. Также, для дальнейшего уменьшения схожести деревьев, оптимальный признак для разбиения выбирается не из всех возможных признаков, а лишь из их случайного подмножества. Прогнозы, выданные деревьями, объединяются в один ответ путем усреднения.\n",
    "\n",
    "Особенность случайного леса заключается в том, что он не переобучается по мере увеличения количества деревьев в композиции. Это достигается за счет того, что деревья не зависят друг от друга, и поэтому добавление нового дерева в композицию не усложняет модель, а лишь понижает уровень шума в прогнозах.\n",
    "\n",
    "В библиотеке scikit-learn случайные леса реализованы в классах sklearn.ensemble.RandomForestClassifier (для классификации) и sklearn.ensemble.RandomForestRegressor (для регрессии). Обучение модели производится с помощью функции fit, построение прогнозов — с помощью функции predict. Число деревьев задается с помощью поля класса n_estimators.\n",
    "\n",
    "Пример использования:\n",
    "\n",
    "import numpy as np\n",
    "\n",
    "from sklearn.ensemble import RandomForestRegressor\n",
    "\n",
    "X = np.array([[1, 2], [3, 4], [5, 6]])\n",
    "\n",
    "y = np.array([-3, 1, 10])\n",
    "\n",
    "clf = RandomForestRegressor(n_estimators=100)\n",
    "\n",
    "clf.fit(X, y)\n",
    "\n",
    "predictions = clf.predict(X)\n",
    "\n",
    "Также в этом задании вам понадобится вычислять качество предсказаний на тестовой выборке. Мы будем пользоваться метрикой R2 — по сути, это среднеквадратичная ошибка (MSE), нормированная на отрезок [0, 1] и обращенная так, чтобы ее наилучшим значением была единица. Ее можно вычислить с помощью функции sklearn.metrics.r2_score. Первым аргументов является список правильных ответов на выборке, вторым — список предсказанных ответов. Пример использования:\n",
    "\n",
    "from sklearn.metrics import r2_score\n",
    "\n",
    "print r2_score([10, 11, 12], [9, 11, 12.1])\n",
    "\n",
    "В этом задании вам нужно проследить за изменением качества случайного леса в зависимости от количества деревьев в нем."
   ]
  },
  {
   "cell_type": "code",
   "execution_count": 2,
   "metadata": {
    "collapsed": false
   },
   "outputs": [],
   "source": [
    "import numpy as np\n",
    "import pandas as pd\n",
    "from sklearn.ensemble import RandomForestRegressor\n",
    "from sklearn.model_selection import KFold\n",
    "from sklearn.model_selection import GridSearchCV\n",
    "from sklearn.model_selection import cross_val_score\n",
    "from sklearn.metrics import r2_score\n",
    "from sklearn.metrics import make_scorer"
   ]
  },
  {
   "cell_type": "code",
   "execution_count": 3,
   "metadata": {
    "collapsed": false
   },
   "outputs": [
    {
     "data": {
      "text/html": [
       "<div>\n",
       "<table border=\"1\" class=\"dataframe\">\n",
       "  <thead>\n",
       "    <tr style=\"text-align: right;\">\n",
       "      <th></th>\n",
       "      <th>Sex</th>\n",
       "      <th>Length</th>\n",
       "      <th>Diameter</th>\n",
       "      <th>Height</th>\n",
       "      <th>WholeWeight</th>\n",
       "      <th>ShuckedWeight</th>\n",
       "      <th>VisceraWeight</th>\n",
       "      <th>ShellWeight</th>\n",
       "      <th>Rings</th>\n",
       "    </tr>\n",
       "  </thead>\n",
       "  <tbody>\n",
       "    <tr>\n",
       "      <th>0</th>\n",
       "      <td>M</td>\n",
       "      <td>0.455</td>\n",
       "      <td>0.365</td>\n",
       "      <td>0.095</td>\n",
       "      <td>0.5140</td>\n",
       "      <td>0.2245</td>\n",
       "      <td>0.1010</td>\n",
       "      <td>0.150</td>\n",
       "      <td>15</td>\n",
       "    </tr>\n",
       "    <tr>\n",
       "      <th>1</th>\n",
       "      <td>M</td>\n",
       "      <td>0.350</td>\n",
       "      <td>0.265</td>\n",
       "      <td>0.090</td>\n",
       "      <td>0.2255</td>\n",
       "      <td>0.0995</td>\n",
       "      <td>0.0485</td>\n",
       "      <td>0.070</td>\n",
       "      <td>7</td>\n",
       "    </tr>\n",
       "    <tr>\n",
       "      <th>2</th>\n",
       "      <td>F</td>\n",
       "      <td>0.530</td>\n",
       "      <td>0.420</td>\n",
       "      <td>0.135</td>\n",
       "      <td>0.6770</td>\n",
       "      <td>0.2565</td>\n",
       "      <td>0.1415</td>\n",
       "      <td>0.210</td>\n",
       "      <td>9</td>\n",
       "    </tr>\n",
       "    <tr>\n",
       "      <th>3</th>\n",
       "      <td>M</td>\n",
       "      <td>0.440</td>\n",
       "      <td>0.365</td>\n",
       "      <td>0.125</td>\n",
       "      <td>0.5160</td>\n",
       "      <td>0.2155</td>\n",
       "      <td>0.1140</td>\n",
       "      <td>0.155</td>\n",
       "      <td>10</td>\n",
       "    </tr>\n",
       "    <tr>\n",
       "      <th>4</th>\n",
       "      <td>I</td>\n",
       "      <td>0.330</td>\n",
       "      <td>0.255</td>\n",
       "      <td>0.080</td>\n",
       "      <td>0.2050</td>\n",
       "      <td>0.0895</td>\n",
       "      <td>0.0395</td>\n",
       "      <td>0.055</td>\n",
       "      <td>7</td>\n",
       "    </tr>\n",
       "  </tbody>\n",
       "</table>\n",
       "</div>"
      ],
      "text/plain": [
       "  Sex  Length  Diameter  Height  WholeWeight  ShuckedWeight  VisceraWeight  \\\n",
       "0   M   0.455     0.365   0.095       0.5140         0.2245         0.1010   \n",
       "1   M   0.350     0.265   0.090       0.2255         0.0995         0.0485   \n",
       "2   F   0.530     0.420   0.135       0.6770         0.2565         0.1415   \n",
       "3   M   0.440     0.365   0.125       0.5160         0.2155         0.1140   \n",
       "4   I   0.330     0.255   0.080       0.2050         0.0895         0.0395   \n",
       "\n",
       "   ShellWeight  Rings  \n",
       "0        0.150     15  \n",
       "1        0.070      7  \n",
       "2        0.210      9  \n",
       "3        0.155     10  \n",
       "4        0.055      7  "
      ]
     },
     "execution_count": 3,
     "metadata": {},
     "output_type": "execute_result"
    }
   ],
   "source": [
    "# Загрузите данные из файла abalone.csv. Это датасет, в котором требуется предсказать \n",
    "# возраст ракушки (число колец) по физическим измерениям.\n",
    "data = pd.read_csv('data/abalone.csv')\n",
    "data.head(5)"
   ]
  },
  {
   "cell_type": "code",
   "execution_count": 4,
   "metadata": {
    "collapsed": false
   },
   "outputs": [
    {
     "data": {
      "text/html": [
       "<div>\n",
       "<table border=\"1\" class=\"dataframe\">\n",
       "  <thead>\n",
       "    <tr style=\"text-align: right;\">\n",
       "      <th></th>\n",
       "      <th>Sex</th>\n",
       "      <th>Length</th>\n",
       "      <th>Diameter</th>\n",
       "      <th>Height</th>\n",
       "      <th>WholeWeight</th>\n",
       "      <th>ShuckedWeight</th>\n",
       "      <th>VisceraWeight</th>\n",
       "      <th>ShellWeight</th>\n",
       "      <th>Rings</th>\n",
       "    </tr>\n",
       "  </thead>\n",
       "  <tbody>\n",
       "    <tr>\n",
       "      <th>0</th>\n",
       "      <td>1</td>\n",
       "      <td>0.455</td>\n",
       "      <td>0.365</td>\n",
       "      <td>0.095</td>\n",
       "      <td>0.5140</td>\n",
       "      <td>0.2245</td>\n",
       "      <td>0.1010</td>\n",
       "      <td>0.150</td>\n",
       "      <td>15</td>\n",
       "    </tr>\n",
       "    <tr>\n",
       "      <th>1</th>\n",
       "      <td>1</td>\n",
       "      <td>0.350</td>\n",
       "      <td>0.265</td>\n",
       "      <td>0.090</td>\n",
       "      <td>0.2255</td>\n",
       "      <td>0.0995</td>\n",
       "      <td>0.0485</td>\n",
       "      <td>0.070</td>\n",
       "      <td>7</td>\n",
       "    </tr>\n",
       "    <tr>\n",
       "      <th>2</th>\n",
       "      <td>-1</td>\n",
       "      <td>0.530</td>\n",
       "      <td>0.420</td>\n",
       "      <td>0.135</td>\n",
       "      <td>0.6770</td>\n",
       "      <td>0.2565</td>\n",
       "      <td>0.1415</td>\n",
       "      <td>0.210</td>\n",
       "      <td>9</td>\n",
       "    </tr>\n",
       "    <tr>\n",
       "      <th>3</th>\n",
       "      <td>1</td>\n",
       "      <td>0.440</td>\n",
       "      <td>0.365</td>\n",
       "      <td>0.125</td>\n",
       "      <td>0.5160</td>\n",
       "      <td>0.2155</td>\n",
       "      <td>0.1140</td>\n",
       "      <td>0.155</td>\n",
       "      <td>10</td>\n",
       "    </tr>\n",
       "    <tr>\n",
       "      <th>4</th>\n",
       "      <td>0</td>\n",
       "      <td>0.330</td>\n",
       "      <td>0.255</td>\n",
       "      <td>0.080</td>\n",
       "      <td>0.2050</td>\n",
       "      <td>0.0895</td>\n",
       "      <td>0.0395</td>\n",
       "      <td>0.055</td>\n",
       "      <td>7</td>\n",
       "    </tr>\n",
       "  </tbody>\n",
       "</table>\n",
       "</div>"
      ],
      "text/plain": [
       "   Sex  Length  Diameter  Height  WholeWeight  ShuckedWeight  VisceraWeight  \\\n",
       "0    1   0.455     0.365   0.095       0.5140         0.2245         0.1010   \n",
       "1    1   0.350     0.265   0.090       0.2255         0.0995         0.0485   \n",
       "2   -1   0.530     0.420   0.135       0.6770         0.2565         0.1415   \n",
       "3    1   0.440     0.365   0.125       0.5160         0.2155         0.1140   \n",
       "4    0   0.330     0.255   0.080       0.2050         0.0895         0.0395   \n",
       "\n",
       "   ShellWeight  Rings  \n",
       "0        0.150     15  \n",
       "1        0.070      7  \n",
       "2        0.210      9  \n",
       "3        0.155     10  \n",
       "4        0.055      7  "
      ]
     },
     "execution_count": 4,
     "metadata": {},
     "output_type": "execute_result"
    }
   ],
   "source": [
    "# Преобразуйте признак Sex в числовой: значение F должно перейти в -1, I — в 0, M — в 1. \n",
    "# Если вы используете Pandas, то подойдет следующий код: \n",
    "#   data['Sex'] = data['Sex'].map(lambda x: 1 if x == 'M' else (-1 if x == 'F' else 0))\n",
    "data['Sex'] = data['Sex'].map(lambda x : 1 if x == 'M' else (-1 if x == 'F' else 0))\n",
    "data.head(5)"
   ]
  },
  {
   "cell_type": "code",
   "execution_count": 5,
   "metadata": {
    "collapsed": false
   },
   "outputs": [],
   "source": [
    "# Разделите содержимое файлов на признаки и целевую переменную. \n",
    "# В последнем столбце записана целевая переменная, в остальных — признаки.\n",
    "X = data.ix[:,0:-1]\n",
    "y = data.ix[:,-1]"
   ]
  },
  {
   "cell_type": "code",
   "execution_count": 7,
   "metadata": {
    "collapsed": false
   },
   "outputs": [
    {
     "name": "stdout",
     "output_type": "stream",
     "text": [
      "n_estimators=1: acc=0.102138694877\n",
      "n_estimators=2: acc=0.338416755158\n",
      "n_estimators=3: acc=0.403579849462\n",
      "n_estimators=4: acc=0.442722398967\n",
      "n_estimators=5: acc=0.464020766067\n",
      "n_estimators=6: acc=0.470581632759\n",
      "n_estimators=7: acc=0.475830616352\n",
      "n_estimators=8: acc=0.481741845626\n",
      "n_estimators=9: acc=0.488347813022\n",
      "n_estimators=10: acc=0.494464124802\n",
      "n_estimators=11: acc=0.493396555\n",
      "n_estimators=12: acc=0.497965876398\n",
      "n_estimators=13: acc=0.502136460572\n",
      "n_estimators=14: acc=0.506428696226\n",
      "n_estimators=15: acc=0.508331197043\n",
      "n_estimators=16: acc=0.510513143832\n",
      "n_estimators=17: acc=0.513848294799\n",
      "n_estimators=18: acc=0.516327541274\n",
      "n_estimators=19: acc=0.519034688136\n",
      "n_estimators=20: acc=0.518673592872\n",
      "n_estimators=21: acc=0.519835423354\n",
      "n_estimators=22: acc=0.520158353672\n",
      "<-- answer\n",
      "n_estimators=23: acc=0.521017270937\n",
      "n_estimators=24: acc=0.522403182581\n",
      "n_estimators=25: acc=0.522617463968\n",
      "n_estimators=26: acc=0.523806158172\n",
      "n_estimators=27: acc=0.524122352219\n",
      "n_estimators=28: acc=0.525053745123\n",
      "n_estimators=29: acc=0.525970375635\n",
      "n_estimators=30: acc=0.526537821668\n",
      "n_estimators=31: acc=0.527099854431\n",
      "n_estimators=32: acc=0.528389408209\n",
      "n_estimators=33: acc=0.529616556123\n",
      "n_estimators=34: acc=0.529563955444\n",
      "n_estimators=35: acc=0.52951724744\n",
      "n_estimators=36: acc=0.529599626789\n",
      "n_estimators=37: acc=0.529131413447\n",
      "n_estimators=38: acc=0.529160257633\n",
      "n_estimators=39: acc=0.529240981027\n",
      "n_estimators=40: acc=0.529067015963\n",
      "n_estimators=41: acc=0.529342005691\n",
      "n_estimators=42: acc=0.529573206534\n",
      "n_estimators=43: acc=0.529375494665\n",
      "n_estimators=44: acc=0.529119233756\n",
      "n_estimators=45: acc=0.528375466028\n",
      "n_estimators=46: acc=0.528520427549\n",
      "n_estimators=47: acc=0.528704944579\n",
      "n_estimators=48: acc=0.529612751544\n",
      "n_estimators=49: acc=0.530394455443\n",
      "n_estimators=50: acc=0.530596343539\n"
     ]
    }
   ],
   "source": [
    "# Обучите случайный лес (sklearn.ensemble.RandomForestRegressor) с различным числом деревьев: \n",
    "# от 1 до 50 (не забудьте выставить \"random_state=1\" в конструкторе). \n",
    "# Для каждого из вариантов оцените качество работы полученного леса на кросс-валидации по 5 \n",
    "# блокам. Используйте параметры \"random_state=1\" и \"shuffle=True\" при создании генератора \n",
    "# кросс-валидации sklearn.cross_validation.KFold. В качестве меры качества воспользуйтесь \n",
    "# коэффициентом детерминации (sklearn.metrics.r2_score).\n",
    "# Определите, при каком минимальном количестве деревьев случайный лес показывает качество \n",
    "# на кросс-валидации выше 0.52. Это количество и будет ответом на задание.\n",
    "# Обратите внимание на изменение качества по мере роста числа деревьев. Ухудшается ли оно?\n",
    "cv = KFold(n_splits=5, shuffle=True, random_state=1)\n",
    "found_answer = False\n",
    "for i in range(1, 51):\n",
    "    method = RandomForestRegressor(n_estimators=i, random_state=1)\n",
    "    method.fit(X, y)\n",
    "    acc = np.average(cross_val_score(estimator=method, X=X, y=y, cv=cv, \n",
    "                                     scoring=make_scorer(r2_score)))\n",
    "    print 'n_estimators={}: acc={}'.format(i, acc)\n",
    "    \n",
    "    if not found_answer and acc > 0.52: \n",
    "        print '<-- answer'\n",
    "        found_answer = True"
   ]
  },
  {
   "cell_type": "markdown",
   "metadata": {},
   "source": [
    "### Градиентный бустинг над решающими деревьями\n",
    "\n",
    "Построение композиции — важный подход в машинном обучении, который позволяет объединять большое количество слабых алгоритмов в один сильный. Данный подход широко используется на практике в самых разных задачах.\n",
    "\n",
    "На лекциях был рассмотрен метод градиентного бустинга, который последовательно строит композицию алгоритмов, причем каждый следующий алгоритм выбирается так, чтобы исправлять ошибки уже имеющейся композиции. Обычно в качестве базовых алгоритмов используют деревья небольшой глубины, поскольку их достаточно легко строить, и при этом они дают нелинейные разделяющие поверхности.\n",
    "\n",
    "Другой метод построения композиций — случайный лес. В нем, в отличие от градиентного бустинга, отдельные деревья строятся независимо и без каких-либо ограничений на глубину — дерево наращивается до тех пор, пока не покажет наилучшее качество на обучающей выборке.\n",
    "\n",
    "В этом задании мы будем иметь дело с задачей классификации. В качестве функции потерь будем использовать log-loss:\n",
    "\n",
    "Здесь через y обозначен истинный ответ, через z — прогноз алгоритма. Данная функция является дифференцируемой, и поэтому подходит для использования в градиентном бустинге. Также можно показать, что при ее использовании итоговый алгоритм будет приближать истинные вероятности классов.\n",
    "\n",
    "В пакете scikit-learn градиентный бустинг реализован в модуле ensemble в виде классов GradientBoostingClassifier и GradientBoostingRegressor. Основные параметры, которые будут интересовать нас: n_estimators, learning_rate. Иногда может быть полезен параметр verbose для отслеживания процесса обучения.\n",
    "\n",
    "Чтобы была возможность оценить качество построенной композиции на каждой итерации, у класса есть метод staged_decision_function. Для заданной выборки он возвращает ответ на каждой итерации.\n",
    "\n",
    "Помимо алгоритмов машинного обучения, в пакете scikit-learn представлено большое число различных инструментов. В этом задании будет предложено воспользоваться функцией train_test_split модуля cross_validation. С помощью нее можно разбивать выборки случайным образом. На вход можно передать несколько выборок (с условием, что они имеют одинаковое количество строк). Пусть, например, имеются данные X и y, где X — это признаковое описание объектов, y — целевое значение. Тогда следующий код будет удобен для разбиения этих данных на обучающее и тестовое множества:\n",
    "\n",
    "X_train, X_test, y_train, y_test = \n",
    "                     train_test_split(X, y, \n",
    "                                      test_size=0.33, \n",
    "                                      random_state=42)\n",
    "                                      \n",
    "Обратите внимание, что при фиксированном параметре random_state результат разбиения можно воспроизвести.\n",
    "\n",
    "Метрика log-loss реализована в пакете metrics: sklearn.metrics.log_loss. Заметим, что данная метрика предназначена для классификаторов, выдающих оценку принадлежности классу, а не бинарные ответы. И градиентный бустинг, и случайный лес умеют строить такие прогнозы — для этого нужно использовать метод predict_proba:\n",
    "\n",
    "pred = clf.predict_proba(X_test)\n",
    "\n",
    "Метод predict_proba возвращает матрицу, i-й столбец которой содержит оценки принадлежности i-му классу.\n",
    "\n",
    "Для рисования кривых качества на обучении и контроле можно воспользоваться следующим кодом:\n",
    "\n",
    "import matplotlib.pyplot as plt\n",
    "\n",
    "%matplotlib inline\n",
    "\n",
    "plt.figure()\n",
    "\n",
    "plt.plot(test_loss, 'r', linewidth=2)\n",
    "\n",
    "plt.plot(train_loss, 'g', linewidth=2)\n",
    "\n",
    "plt.legend(['test', 'train'])\n",
    "\n",
    "В рамках данного задания мы рассмотрим датасет с конкурса Predicting a Biological Response (https://www.kaggle.com/c/bioresponse#description)."
   ]
  },
  {
   "cell_type": "code",
   "execution_count": 92,
   "metadata": {
    "collapsed": true
   },
   "outputs": [],
   "source": [
    "from sklearn.model_selection import train_test_split\n",
    "from sklearn.ensemble import GradientBoostingClassifier\n",
    "from sklearn.ensemble import RandomForestClassifier\n",
    "from sklearn.metrics import log_loss\n",
    "import matplotlib.pyplot as plt\n",
    "import math"
   ]
  },
  {
   "cell_type": "code",
   "execution_count": 61,
   "metadata": {
    "collapsed": false
   },
   "outputs": [],
   "source": [
    "# Загрузите выборку из файла gbm-data.csv с помощью pandas и преобразуйте ее в массив \n",
    "# numpy (параметр values у датафрейма). В первой колонке файла с данными записано, \n",
    "# была или нет реакция. Все остальные колонки (d1 - d1776) содержат различные \n",
    "# характеристики молекулы, такие как размер, форма и т.д. Разбейте выборку на обучающую и \n",
    "# тестовую, используя функцию train_test_split с параметрами test_size = 0.8 и \n",
    "# random_state = 241.\n",
    "data = pd.read_csv('data/gbm-data.csv')\n",
    "X = data.ix[:,1:]\n",
    "y = data.ix[:,0]\n",
    "X_train, X_test, y_train, y_test = train_test_split(X, y, test_size=0.8, random_state=241)"
   ]
  },
  {
   "cell_type": "code",
   "execution_count": 90,
   "metadata": {
    "collapsed": false
   },
   "outputs": [
    {
     "name": "stdout",
     "output_type": "stream",
     "text": [
      "learning_rate=1\n",
      "      Iter       Train Loss   Remaining Time \n",
      "         1           1.0190            9.15s\n",
      "         2           0.9192            8.74s\n",
      "         3           0.8272            7.47s\n",
      "         4           0.7834            6.57s\n",
      "         5           0.7109            6.33s\n",
      "         6           0.6368            6.58s\n",
      "         7           0.5797            6.59s\n",
      "         8           0.5610            6.22s\n",
      "         9           0.5185            6.12s\n",
      "        10           0.4984            5.83s\n",
      "        20           0.1999            5.66s\n",
      "        30           0.1313            5.17s\n",
      "        40           0.0790            4.88s\n",
      "        50           0.0511            4.74s\n",
      "        60           0.0352            4.60s\n",
      "        70           0.0245            4.42s\n",
      "        80           0.0162            4.25s\n",
      "        90           0.0114            4.00s\n",
      "       100           0.0077            3.72s\n",
      "       200           0.0004            1.05s\n",
      "Min log-loss: value=0.582294259428 iter=1\n"
     ]
    },
    {
     "data": {
      "image/png": "[encoded data removed]",
      "text/plain": [
       "<matplotlib.figure.Figure at 0x11a83a0d0>"
      ]
     },
     "metadata": {},
     "output_type": "display_data"
    },
    {
     "name": "stdout",
     "output_type": "stream",
     "text": [
      "learning_rate=0.5\n",
      "      Iter       Train Loss   Remaining Time \n",
      "         1           1.1255            9.56s\n",
      "         2           1.0035            9.97s\n",
      "         3           0.9386            9.38s\n",
      "         4           0.8844            8.40s\n",
      "         5           0.8381            8.02s\n",
      "         6           0.7995            7.58s\n",
      "         7           0.7559            7.22s\n",
      "         8           0.7205            6.98s\n",
      "         9           0.6958            6.67s\n",
      "        10           0.6725            6.47s\n",
      "        20           0.4672            5.48s\n",
      "        30           0.3179            5.18s\n",
      "        40           0.2274            5.02s\n",
      "        50           0.1774            4.73s\n",
      "        60           0.1394            4.44s\n",
      "        70           0.1050            4.25s\n",
      "        80           0.0805            4.03s\n",
      "        90           0.0650            3.74s\n",
      "       100           0.0511            3.56s\n",
      "       200           0.0058            1.14s\n",
      "Min log-loss: value=0.558202552316 iter=7\n"
     ]
    },
    {
     "data": {
      "image/png": "[encoded data removed]",
      "text/plain": [
       "<matplotlib.figure.Figure at 0x11a284090>"
      ]
     },
     "metadata": {},
     "output_type": "display_data"
    },
    {
     "name": "stdout",
     "output_type": "stream",
     "text": [
      "learning_rate=0.3\n",
      "      Iter       Train Loss   Remaining Time \n",
      "         1           1.2095           11.47s\n",
      "         2           1.1006           10.05s\n",
      "         3           1.0240            9.53s\n",
      "         4           0.9729            9.35s\n",
      "         5           0.9387            8.53s\n",
      "         6           0.8948            8.59s\n",
      "         7           0.8621            8.35s\n",
      "         8           0.8360            8.00s\n",
      "         9           0.8171            7.66s\n",
      "        10           0.7883            7.52s\n",
      "        20           0.6164            6.26s\n",
      "        30           0.4933            5.76s\n",
      "        40           0.4248            5.11s\n",
      "        50           0.3345            4.95s\n",
      "        60           0.2760            4.63s\n",
      "        70           0.2263            4.41s\n",
      "        80           0.1971            4.08s\n",
      "        90           0.1693            3.76s\n",
      "       100           0.1388            3.60s\n",
      "       200           0.0294            1.22s\n",
      "Min log-loss: value=0.542314111002 iter=11\n"
     ]
    },
    {
     "data": {
      "image/png": "[encoded data removed]",
      "text/plain": [
       "<matplotlib.figure.Figure at 0x11995db10>"
      ]
     },
     "metadata": {},
     "output_type": "display_data"
    },
    {
     "name": "stdout",
     "output_type": "stream",
     "text": [
      "learning_rate=0.2\n",
      "      Iter       Train Loss   Remaining Time \n",
      "         1           1.2613           10.54s\n",
      "         2           1.1715           10.36s\n",
      "         3           1.1009           10.10s\n",
      "         4           1.0529            9.94s\n",
      "         5           1.0130            9.79s\n",
      "         6           0.9740            9.70s\n",
      "         7           0.9475            9.03s\n",
      "         8           0.9197            9.01s\n",
      "         9           0.8979            8.50s\n",
      "        10           0.8730            8.49s\n",
      "        20           0.7207            6.65s\n",
      "        30           0.6055            5.96s\n",
      "        40           0.5244            5.43s\n",
      "        50           0.4501            5.13s\n",
      "        60           0.3908            4.87s\n",
      "        70           0.3372            4.73s\n",
      "        80           0.3009            4.47s\n",
      "        90           0.2603            4.30s\n",
      "       100           0.2327            3.95s\n",
      "       200           0.0835            1.24s\n",
      "Min log-loss: value=0.531094637597 iter=37\n"
     ]
    },
    {
     "data": {
      "image/png": "[encoded data removed]",
      "text/plain": [
       "<matplotlib.figure.Figure at 0x11a284310>"
      ]
     },
     "metadata": {},
     "output_type": "display_data"
    },
    {
     "name": "stdout",
     "output_type": "stream",
     "text": [
      "learning_rate=0.1\n",
      "      Iter       Train Loss   Remaining Time \n",
      "         1           1.3199            9.73s\n",
      "         2           1.2645            9.94s\n",
      "         3           1.2170           10.35s\n",
      "         4           1.1775           10.40s\n",
      "         5           1.1404           10.48s\n",
      "         6           1.1106           10.65s\n",
      "         7           1.0844           10.73s\n",
      "         8           1.0617           10.70s\n",
      "         9           1.0411           10.63s\n",
      "        10           1.0223           10.58s\n",
      "        20           0.8864            9.05s\n",
      "        30           0.7844            7.66s\n",
      "        40           0.7176            6.76s\n",
      "        50           0.6590            6.11s\n",
      "        60           0.6120            5.60s\n",
      "        70           0.5599            5.22s\n",
      "        80           0.5242            4.76s\n",
      "        90           0.4829            4.41s\n",
      "       100           0.4473            4.07s\n",
      "       200           0.2379            1.30s\n",
      "Min log-loss: value=0.526920187228 iter=52\n"
     ]
    },
    {
     "data": {
      "image/png": "[encoded data removed]",
      "text/plain": [
       "<matplotlib.figure.Figure at 0x11995dc10>"
      ]
     },
     "metadata": {},
     "output_type": "display_data"
    }
   ],
   "source": [
    "# Обучите GradientBoostingClassifier с параметрами n_estimators=250, verbose=True, \n",
    "# random_state=241 и для каждого значения learning_rate из списка [1, 0.5, 0.3, 0.2, 0.1] \n",
    "# проделайте следующее:\n",
    "# - Используйте метод staged_decision_function для предсказания качества на обучающей \n",
    "#   и тестовой выборке на каждой итерации.\n",
    "# - Преобразуйте полученное предсказание с помощью сигмоидной функции по формуле \n",
    "#     1 / (1 + e^{−y_pred}), \n",
    "#   где y_pred — предсказанное значение.\n",
    "# - Вычислите и постройте график значений log-loss (которую можно посчитать с помощью функции \n",
    "#   sklearn.metrics.log_loss) на обучающей и тестовой выборках, а также найдите минимальное \n",
    "#   значение метрики и номер итерации, на которой оно достигается.\n",
    "# Приведите минимальное значение log-loss на тестовой выборке и номер итерации, \n",
    "# на котором оно достигается, при learning_rate = 0.2.\n",
    "def to_sigm_func(pred):\n",
    "    return np.divide(1., 1 + math.e**(-pred))\n",
    "\n",
    "for lr in [1, 0.5, 0.3, 0.2, 0.1]:\n",
    "    print 'learning_rate={}'.format(lr)\n",
    "    \n",
    "    method = GradientBoostingClassifier(n_estimators=250, learning_rate=lr, verbose=True, \n",
    "                                        random_state=241)\n",
    "    method.fit(X_train, y_train)\n",
    "    \n",
    "    ll_train = [log_loss(y_train, to_sigm_func(pred)) for pred in method.staged_decision_function(X_train)]\n",
    "    ll_test = [log_loss(y_test, to_sigm_func(pred)) for pred in method.staged_decision_function(X_test)]\n",
    "    \n",
    "    mlli = np.argmin(ll_test)\n",
    "    print 'Min log-loss: value={} iter={}'.format(ll_test[mlli], mlli+1)\n",
    "        \n",
    "    plt.figure()\n",
    "    plt.plot(ll_test, 'r', linewidth=2)\n",
    "    plt.plot(ll_train, 'g', linewidth=2)\n",
    "    plt.legend(['test', 'train'])\n",
    "    plt.show()"
   ]
  },
  {
   "cell_type": "code",
   "execution_count": 101,
   "metadata": {
    "collapsed": false
   },
   "outputs": [
    {
     "name": "stdout",
     "output_type": "stream",
     "text": [
      "overfitting\n"
     ]
    }
   ],
   "source": [
    "# Как можно охарактеризовать график качества на тестовой выборке, начиная с некоторой \n",
    "# итерации: переобучение (overfitting) или недообучение (underfitting)? \n",
    "# В ответе укажите одно из слов overfitting либо underfitting.\n",
    "print 'overfitting'"
   ]
  },
  {
   "cell_type": "code",
   "execution_count": 103,
   "metadata": {
    "collapsed": false
   },
   "outputs": [
    {
     "name": "stdout",
     "output_type": "stream",
     "text": [
      "0.540911909937\n"
     ]
    }
   ],
   "source": [
    "# На этих же данных обучите RandomForestClassifier с количеством деревьев, равным количеству \n",
    "# итераций, на котором достигается наилучшее качество у градиентного бустинга из предыдущего \n",
    "# пункта, c random_state=241 и остальными параметрами по умолчанию. \n",
    "# Какое значение log-loss на тесте получается у этого случайного леса? \n",
    "# (Не забывайте, что предсказания нужно получать с помощью функции predict_proba. \n",
    "# В данном случае брать сигмоиду от оценки вероятности класса не нужно)\n",
    "\n",
    "method = RandomForestClassifier(n_estimators=37, random_state=241)\n",
    "method.fit(X_train, y_train)\n",
    "print log_loss(y_test, method.predict_proba(X_test))"
   ]
  },
  {
   "cell_type": "markdown",
   "metadata": {},
   "source": [
    "Обратите внимание, что, хотя в градиентного бустинге гораздо более слабые базовые алгоритмы, он выигрывает у случайного леса благодаря более \"направленной\" настройке — каждый следующий алгоритм исправляет ошибки имеющейся композиции. Также он обучается быстрее случайного леса благодаря использованию неглубоких деревьев. В то же время, случайный лес может показать более высокое качество при неограниченных ресурсах — так, он выиграет у градиентного бустинга на наших данных, если увеличить число деревьев до нескольких сотен (проверьте сами!)."
   ]
  },
  {
   "cell_type": "code",
   "execution_count": null,
   "metadata": {
    "collapsed": true
   },
   "outputs": [],
   "source": []
  }
 ],
 "metadata": {
  "kernelspec": {
   "display_name": "Python [Root]",
   "language": "python",
   "name": "Python [Root]"
  },
  "language_info": {
   "codemirror_mode": {
    "name": "ipython",
    "version": 2
   },
   "file_extension": ".py",
   "mimetype": "text/x-python",
   "name": "python",
   "nbconvert_exporter": "python",
   "pygments_lexer": "ipython2",
   "version": "2.7.13"
  }
 },
 "nbformat": 4,
 "nbformat_minor": 2
}
